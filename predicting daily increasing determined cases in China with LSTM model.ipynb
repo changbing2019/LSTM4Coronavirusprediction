{
 "cells": [
  {
   "cell_type": "code",
   "execution_count": 1,
   "metadata": {},
   "outputs": [],
   "source": [
    "import pandas as pd\n",
    "import numpy as np\n",
    "import matplotlib.pyplot as plt"
   ]
  },
  {
   "cell_type": "code",
   "execution_count": 2,
   "metadata": {},
   "outputs": [],
   "source": [
    "file=r'chinancoron2020.csv'\n",
    "coro=pd.read_csv(file)"
   ]
  },
  {
   "cell_type": "code",
   "execution_count": 3,
   "metadata": {},
   "outputs": [
    {
     "data": {
      "text/html": [
       "<div>\n",
       "<style scoped>\n",
       "    .dataframe tbody tr th:only-of-type {\n",
       "        vertical-align: middle;\n",
       "    }\n",
       "\n",
       "    .dataframe tbody tr th {\n",
       "        vertical-align: top;\n",
       "    }\n",
       "\n",
       "    .dataframe thead th {\n",
       "        text-align: right;\n",
       "    }\n",
       "</style>\n",
       "<table border=\"1\" class=\"dataframe\">\n",
       "  <thead>\n",
       "    <tr style=\"text-align: right;\">\n",
       "      <th></th>\n",
       "      <th>date</th>\n",
       "      <th>determined</th>\n",
       "      <th>Inc_deter</th>\n",
       "      <th>undetermined</th>\n",
       "      <th>death</th>\n",
       "    </tr>\n",
       "  </thead>\n",
       "  <tbody>\n",
       "    <tr>\n",
       "      <th>0</th>\n",
       "      <td>1/16/2020</td>\n",
       "      <td>4</td>\n",
       "      <td>4</td>\n",
       "      <td>0</td>\n",
       "      <td>2</td>\n",
       "    </tr>\n",
       "    <tr>\n",
       "      <th>1</th>\n",
       "      <td>1/17/2020</td>\n",
       "      <td>62</td>\n",
       "      <td>58</td>\n",
       "      <td>0</td>\n",
       "      <td>2</td>\n",
       "    </tr>\n",
       "    <tr>\n",
       "      <th>2</th>\n",
       "      <td>1/18/2020</td>\n",
       "      <td>121</td>\n",
       "      <td>59</td>\n",
       "      <td>0</td>\n",
       "      <td>3</td>\n",
       "    </tr>\n",
       "    <tr>\n",
       "      <th>3</th>\n",
       "      <td>1/19/2020</td>\n",
       "      <td>198</td>\n",
       "      <td>77</td>\n",
       "      <td>0</td>\n",
       "      <td>4</td>\n",
       "    </tr>\n",
       "    <tr>\n",
       "      <th>4</th>\n",
       "      <td>1/20/2020</td>\n",
       "      <td>291</td>\n",
       "      <td>93</td>\n",
       "      <td>54</td>\n",
       "      <td>6</td>\n",
       "    </tr>\n",
       "  </tbody>\n",
       "</table>\n",
       "</div>"
      ],
      "text/plain": [
       "        date  determined  Inc_deter  undetermined  death\n",
       "0  1/16/2020           4          4             0      2\n",
       "1  1/17/2020          62         58             0      2\n",
       "2  1/18/2020         121         59             0      3\n",
       "3  1/19/2020         198         77             0      4\n",
       "4  1/20/2020         291         93            54      6"
      ]
     },
     "execution_count": 3,
     "metadata": {},
     "output_type": "execute_result"
    }
   ],
   "source": [
    "coro.head()"
   ]
  },
  {
   "cell_type": "code",
   "execution_count": 4,
   "metadata": {},
   "outputs": [
    {
     "data": {
      "text/html": [
       "<div>\n",
       "<style scoped>\n",
       "    .dataframe tbody tr th:only-of-type {\n",
       "        vertical-align: middle;\n",
       "    }\n",
       "\n",
       "    .dataframe tbody tr th {\n",
       "        vertical-align: top;\n",
       "    }\n",
       "\n",
       "    .dataframe thead th {\n",
       "        text-align: right;\n",
       "    }\n",
       "</style>\n",
       "<table border=\"1\" class=\"dataframe\">\n",
       "  <thead>\n",
       "    <tr style=\"text-align: right;\">\n",
       "      <th></th>\n",
       "      <th>date</th>\n",
       "      <th>determined</th>\n",
       "      <th>Inc_deter</th>\n",
       "      <th>undetermined</th>\n",
       "      <th>death</th>\n",
       "    </tr>\n",
       "  </thead>\n",
       "  <tbody>\n",
       "    <tr>\n",
       "      <th>18</th>\n",
       "      <td>2/3/2020</td>\n",
       "      <td>20471</td>\n",
       "      <td>3233</td>\n",
       "      <td>23214</td>\n",
       "      <td>425</td>\n",
       "    </tr>\n",
       "    <tr>\n",
       "      <th>19</th>\n",
       "      <td>2/4/2020</td>\n",
       "      <td>24363</td>\n",
       "      <td>3892</td>\n",
       "      <td>23260</td>\n",
       "      <td>491</td>\n",
       "    </tr>\n",
       "    <tr>\n",
       "      <th>20</th>\n",
       "      <td>2/5/2020</td>\n",
       "      <td>28060</td>\n",
       "      <td>3697</td>\n",
       "      <td>24702</td>\n",
       "      <td>564</td>\n",
       "    </tr>\n",
       "    <tr>\n",
       "      <th>21</th>\n",
       "      <td>2/6/2020</td>\n",
       "      <td>31211</td>\n",
       "      <td>3151</td>\n",
       "      <td>26359</td>\n",
       "      <td>637</td>\n",
       "    </tr>\n",
       "    <tr>\n",
       "      <th>22</th>\n",
       "      <td>2/7/2020</td>\n",
       "      <td>34598</td>\n",
       "      <td>3401</td>\n",
       "      <td>27657</td>\n",
       "      <td>723</td>\n",
       "    </tr>\n",
       "  </tbody>\n",
       "</table>\n",
       "</div>"
      ],
      "text/plain": [
       "        date  determined  Inc_deter  undetermined  death\n",
       "18  2/3/2020       20471       3233         23214    425\n",
       "19  2/4/2020       24363       3892         23260    491\n",
       "20  2/5/2020       28060       3697         24702    564\n",
       "21  2/6/2020       31211       3151         26359    637\n",
       "22  2/7/2020       34598       3401         27657    723"
      ]
     },
     "execution_count": 4,
     "metadata": {},
     "output_type": "execute_result"
    }
   ],
   "source": [
    "coro.tail()"
   ]
  },
  {
   "cell_type": "code",
   "execution_count": 5,
   "metadata": {},
   "outputs": [],
   "source": [
    "coro['date'] =  pd.to_datetime(coro['date']) #, format='%d%b%Y:%H:%M:%S.%f')"
   ]
  },
  {
   "cell_type": "code",
   "execution_count": 6,
   "metadata": {},
   "outputs": [
    {
     "data": {
      "text/html": [
       "<div>\n",
       "<style scoped>\n",
       "    .dataframe tbody tr th:only-of-type {\n",
       "        vertical-align: middle;\n",
       "    }\n",
       "\n",
       "    .dataframe tbody tr th {\n",
       "        vertical-align: top;\n",
       "    }\n",
       "\n",
       "    .dataframe thead th {\n",
       "        text-align: right;\n",
       "    }\n",
       "</style>\n",
       "<table border=\"1\" class=\"dataframe\">\n",
       "  <thead>\n",
       "    <tr style=\"text-align: right;\">\n",
       "      <th></th>\n",
       "      <th>date</th>\n",
       "      <th>determined</th>\n",
       "      <th>Inc_deter</th>\n",
       "      <th>undetermined</th>\n",
       "      <th>death</th>\n",
       "    </tr>\n",
       "  </thead>\n",
       "  <tbody>\n",
       "    <tr>\n",
       "      <th>18</th>\n",
       "      <td>2020-02-03</td>\n",
       "      <td>20471</td>\n",
       "      <td>3233</td>\n",
       "      <td>23214</td>\n",
       "      <td>425</td>\n",
       "    </tr>\n",
       "    <tr>\n",
       "      <th>19</th>\n",
       "      <td>2020-02-04</td>\n",
       "      <td>24363</td>\n",
       "      <td>3892</td>\n",
       "      <td>23260</td>\n",
       "      <td>491</td>\n",
       "    </tr>\n",
       "    <tr>\n",
       "      <th>20</th>\n",
       "      <td>2020-02-05</td>\n",
       "      <td>28060</td>\n",
       "      <td>3697</td>\n",
       "      <td>24702</td>\n",
       "      <td>564</td>\n",
       "    </tr>\n",
       "    <tr>\n",
       "      <th>21</th>\n",
       "      <td>2020-02-06</td>\n",
       "      <td>31211</td>\n",
       "      <td>3151</td>\n",
       "      <td>26359</td>\n",
       "      <td>637</td>\n",
       "    </tr>\n",
       "    <tr>\n",
       "      <th>22</th>\n",
       "      <td>2020-02-07</td>\n",
       "      <td>34598</td>\n",
       "      <td>3401</td>\n",
       "      <td>27657</td>\n",
       "      <td>723</td>\n",
       "    </tr>\n",
       "  </tbody>\n",
       "</table>\n",
       "</div>"
      ],
      "text/plain": [
       "         date  determined  Inc_deter  undetermined  death\n",
       "18 2020-02-03       20471       3233         23214    425\n",
       "19 2020-02-04       24363       3892         23260    491\n",
       "20 2020-02-05       28060       3697         24702    564\n",
       "21 2020-02-06       31211       3151         26359    637\n",
       "22 2020-02-07       34598       3401         27657    723"
      ]
     },
     "execution_count": 6,
     "metadata": {},
     "output_type": "execute_result"
    }
   ],
   "source": [
    "coro.tail()"
   ]
  },
  {
   "cell_type": "code",
   "execution_count": 7,
   "metadata": {},
   "outputs": [],
   "source": [
    "coro.set_index('date', inplace=True)"
   ]
  },
  {
   "cell_type": "code",
   "execution_count": 8,
   "metadata": {},
   "outputs": [
    {
     "data": {
      "text/plain": [
       "DatetimeIndex(['2020-01-16', '2020-01-17', '2020-01-18', '2020-01-19',\n",
       "               '2020-01-20', '2020-01-21', '2020-01-22', '2020-01-23',\n",
       "               '2020-01-24', '2020-01-25', '2020-01-26', '2020-01-27',\n",
       "               '2020-01-28', '2020-01-29', '2020-01-30', '2020-01-31',\n",
       "               '2020-02-01', '2020-02-02', '2020-02-03', '2020-02-04',\n",
       "               '2020-02-05', '2020-02-06', '2020-02-07'],\n",
       "              dtype='datetime64[ns]', name='date', freq=None)"
      ]
     },
     "execution_count": 8,
     "metadata": {},
     "output_type": "execute_result"
    }
   ],
   "source": [
    "coro.index"
   ]
  },
  {
   "cell_type": "code",
   "execution_count": null,
   "metadata": {},
   "outputs": [],
   "source": []
  },
  {
   "cell_type": "code",
   "execution_count": 9,
   "metadata": {},
   "outputs": [
    {
     "data": {
      "text/plain": [
       "<matplotlib.axes._subplots.AxesSubplot at 0x1fc9126aeb8>"
      ]
     },
     "execution_count": 9,
     "metadata": {},
     "output_type": "execute_result"
    },
    {
     "data": {
      "image/png": "[encoded data removed]",
      "text/plain": [
       "<Figure size 432x288 with 1 Axes>"
      ]
     },
     "metadata": {
      "needs_background": "light"
     },
     "output_type": "display_data"
    }
   ],
   "source": [
    "coro.plot() #color='b',linestyle='--',marker='o')"
   ]
  },
  {
   "cell_type": "markdown",
   "metadata": {},
   "source": [
    "### Using the data of daily increasing determined cases in China from Jan 21 through Jan 30 to build the Deep learning model "
   ]
  },
  {
   "cell_type": "code",
   "execution_count": 10,
   "metadata": {},
   "outputs": [
    {
     "name": "stderr",
     "output_type": "stream",
     "text": [
      "Using TensorFlow backend.\n"
     ]
    }
   ],
   "source": [
    "from math import sqrt\n",
    "from numpy import concatenate\n",
    "from matplotlib import pyplot as plt\n",
    "from pandas import read_csv\n",
    "from pandas import DataFrame\n",
    "from pandas import concat\n",
    "from sklearn.preprocessing import MinMaxScaler\n",
    "from sklearn.preprocessing import LabelEncoder\n",
    "from sklearn.metrics import mean_squared_error\n",
    "from keras.models import Sequential\n",
    "from keras.layers import Dense\n",
    "from keras.layers import LSTM\n",
    "from keras.layers import Dropout\n",
    "import keras as K"
   ]
  },
  {
   "cell_type": "code",
   "execution_count": 11,
   "metadata": {},
   "outputs": [],
   "source": [
    "\n",
    "# convert an array of values into a dataset matrix\n",
    "def create_dataset(dataset, look_back=1):\n",
    "    dataX, dataY = [], []\n",
    "    for i in range(len(dataset)-look_back): #-1):\n",
    "        a = dataset[i:(i+look_back), 0]\n",
    "        dataX.append(a)\n",
    "        dataY.append(dataset[i + look_back, 0])\n",
    "    return np.array(dataX), np.array(dataY)\n"
   ]
  },
  {
   "cell_type": "markdown",
   "metadata": {},
   "source": [
    "det=coro['determined'].to_list()\n",
    "  "
   ]
  },
  {
   "cell_type": "markdown",
   "metadata": {},
   "source": [
    "inc_det=[]\n",
    "inc_det.append(4)\n",
    "for i in range(1,len(det)):\n",
    "    inc_det.append(det[i]-det[i-1])\n",
    "    "
   ]
  },
  {
   "cell_type": "markdown",
   "metadata": {},
   "source": [
    "inc_det"
   ]
  },
  {
   "cell_type": "markdown",
   "metadata": {},
   "source": [
    "coro['Inc_deter']=inc_det"
   ]
  },
  {
   "cell_type": "code",
   "execution_count": 12,
   "metadata": {},
   "outputs": [
    {
     "data": {
      "text/html": [
       "<div>\n",
       "<style scoped>\n",
       "    .dataframe tbody tr th:only-of-type {\n",
       "        vertical-align: middle;\n",
       "    }\n",
       "\n",
       "    .dataframe tbody tr th {\n",
       "        vertical-align: top;\n",
       "    }\n",
       "\n",
       "    .dataframe thead th {\n",
       "        text-align: right;\n",
       "    }\n",
       "</style>\n",
       "<table border=\"1\" class=\"dataframe\">\n",
       "  <thead>\n",
       "    <tr style=\"text-align: right;\">\n",
       "      <th></th>\n",
       "      <th>determined</th>\n",
       "      <th>Inc_deter</th>\n",
       "      <th>undetermined</th>\n",
       "      <th>death</th>\n",
       "    </tr>\n",
       "    <tr>\n",
       "      <th>date</th>\n",
       "      <th></th>\n",
       "      <th></th>\n",
       "      <th></th>\n",
       "      <th></th>\n",
       "    </tr>\n",
       "  </thead>\n",
       "  <tbody>\n",
       "    <tr>\n",
       "      <th>2020-01-16</th>\n",
       "      <td>4</td>\n",
       "      <td>4</td>\n",
       "      <td>0</td>\n",
       "      <td>2</td>\n",
       "    </tr>\n",
       "    <tr>\n",
       "      <th>2020-01-17</th>\n",
       "      <td>62</td>\n",
       "      <td>58</td>\n",
       "      <td>0</td>\n",
       "      <td>2</td>\n",
       "    </tr>\n",
       "    <tr>\n",
       "      <th>2020-01-18</th>\n",
       "      <td>121</td>\n",
       "      <td>59</td>\n",
       "      <td>0</td>\n",
       "      <td>3</td>\n",
       "    </tr>\n",
       "    <tr>\n",
       "      <th>2020-01-19</th>\n",
       "      <td>198</td>\n",
       "      <td>77</td>\n",
       "      <td>0</td>\n",
       "      <td>4</td>\n",
       "    </tr>\n",
       "    <tr>\n",
       "      <th>2020-01-20</th>\n",
       "      <td>291</td>\n",
       "      <td>93</td>\n",
       "      <td>54</td>\n",
       "      <td>6</td>\n",
       "    </tr>\n",
       "  </tbody>\n",
       "</table>\n",
       "</div>"
      ],
      "text/plain": [
       "            determined  Inc_deter  undetermined  death\n",
       "date                                                  \n",
       "2020-01-16           4          4             0      2\n",
       "2020-01-17          62         58             0      2\n",
       "2020-01-18         121         59             0      3\n",
       "2020-01-19         198         77             0      4\n",
       "2020-01-20         291         93            54      6"
      ]
     },
     "execution_count": 12,
     "metadata": {},
     "output_type": "execute_result"
    }
   ],
   "source": [
    "coro.head()"
   ]
  },
  {
   "cell_type": "code",
   "execution_count": 13,
   "metadata": {},
   "outputs": [],
   "source": [
    "df=coro['Inc_deter'] #['2020-01-21':'2020-01-31']"
   ]
  },
  {
   "cell_type": "code",
   "execution_count": 14,
   "metadata": {},
   "outputs": [],
   "source": [
    "df.columns=['cases']"
   ]
  },
  {
   "cell_type": "code",
   "execution_count": 15,
   "metadata": {},
   "outputs": [
    {
     "data": {
      "text/plain": [
       "<matplotlib.axes._subplots.AxesSubplot at 0x1fc912041d0>"
      ]
     },
     "execution_count": 15,
     "metadata": {},
     "output_type": "execute_result"
    },
    {
     "data": {
      "image/png": "[encoded data removed]",
      "text/plain": [
       "<Figure size 432x288 with 1 Axes>"
      ]
     },
     "metadata": {
      "needs_background": "light"
     },
     "output_type": "display_data"
    }
   ],
   "source": [
    "df.plot(kind='bar')"
   ]
  },
  {
   "cell_type": "code",
   "execution_count": 16,
   "metadata": {},
   "outputs": [],
   "source": [
    "look_back=3\n",
    "splitratio=1"
   ]
  },
  {
   "cell_type": "code",
   "execution_count": 17,
   "metadata": {},
   "outputs": [
    {
     "data": {
      "text/plain": [
       "date\n",
       "2020-02-03    3233\n",
       "2020-02-04    3892\n",
       "2020-02-05    3697\n",
       "2020-02-06    3151\n",
       "2020-02-07    3401\n",
       "Name: Inc_deter, dtype: int64"
      ]
     },
     "execution_count": 17,
     "metadata": {},
     "output_type": "execute_result"
    }
   ],
   "source": [
    "df.tail()"
   ]
  },
  {
   "cell_type": "code",
   "execution_count": 18,
   "metadata": {},
   "outputs": [],
   "source": [
    "dataset1=np.log(df.values)"
   ]
  },
  {
   "cell_type": "code",
   "execution_count": 19,
   "metadata": {},
   "outputs": [],
   "source": [
    "#if look_back==1:\n",
    "dataset1=dataset1.reshape(-1,1)"
   ]
  },
  {
   "cell_type": "code",
   "execution_count": 20,
   "metadata": {},
   "outputs": [
    {
     "data": {
      "text/plain": [
       "array([[1.38629436],\n",
       "       [4.06044301],\n",
       "       [4.07753744],\n",
       "       [4.34380542],\n",
       "       [4.53259949],\n",
       "       [5.00394631],\n",
       "       [4.87519732],\n",
       "       [5.55682806],\n",
       "       [6.12468339],\n",
       "       [6.5482191 ],\n",
       "       [6.65415252],\n",
       "       [7.48099216],\n",
       "       [6.75925527],\n",
       "       [7.75705114],\n",
       "       [7.59337419],\n",
       "       [7.6501687 ],\n",
       "       [7.85941315],\n",
       "       [7.94697136],\n",
       "       [8.08116578],\n",
       "       [8.26667844],\n",
       "       [8.21527696],\n",
       "       [8.05547514],\n",
       "       [8.13182479]])"
      ]
     },
     "execution_count": 20,
     "metadata": {},
     "output_type": "execute_result"
    }
   ],
   "source": [
    "dataset1"
   ]
  },
  {
   "cell_type": "code",
   "execution_count": 21,
   "metadata": {},
   "outputs": [],
   "source": [
    "sc= MinMaxScaler(feature_range=(0,1))\n",
    "dataset = sc.fit_transform(dataset1)\n"
   ]
  },
  {
   "cell_type": "code",
   "execution_count": 22,
   "metadata": {},
   "outputs": [
    {
     "data": {
      "text/plain": [
       "array([[0.        ],\n",
       "       [0.3886627 ],\n",
       "       [0.39114722],\n",
       "       [0.4298468 ],\n",
       "       [0.45728626],\n",
       "       [0.52579215],\n",
       "       [0.50707968],\n",
       "       [0.60614839],\n",
       "       [0.68868089],\n",
       "       [0.75023788],\n",
       "       [0.76563432],\n",
       "       [0.88580779],\n",
       "       [0.78091003],\n",
       "       [0.9259304 ],\n",
       "       [0.90214147],\n",
       "       [0.91039603],\n",
       "       [0.94080777],\n",
       "       [0.95353354],\n",
       "       [0.97303745],\n",
       "       [1.        ],\n",
       "       [0.99252927],\n",
       "       [0.96930356],\n",
       "       [0.98040027]])"
      ]
     },
     "execution_count": 22,
     "metadata": {},
     "output_type": "execute_result"
    }
   ],
   "source": [
    "dataset"
   ]
  },
  {
   "cell_type": "code",
   "execution_count": 23,
   "metadata": {},
   "outputs": [
    {
     "name": "stdout",
     "output_type": "stream",
     "text": [
      "(23, 1) (23, 1)\n"
     ]
    }
   ],
   "source": [
    "# split into train and test sets\n",
    "train_size = int(len(dataset) * splitratio)\n",
    "test_size = train_size \n",
    "train, test = dataset[0:train_size,:], dataset[0:train_size,:]\n",
    "print(train.shape, test.shape)\n"
   ]
  },
  {
   "cell_type": "code",
   "execution_count": 24,
   "metadata": {},
   "outputs": [
    {
     "data": {
      "text/plain": [
       "23"
      ]
     },
     "execution_count": 24,
     "metadata": {},
     "output_type": "execute_result"
    }
   ],
   "source": [
    "train_size"
   ]
  },
  {
   "cell_type": "code",
   "execution_count": 25,
   "metadata": {},
   "outputs": [],
   "source": [
    "# reshape into X=t and Y=t+1\n",
    " #   look_back = 24\n",
    "trainX, trainY = create_dataset(train, look_back)\n",
    "testX, testY = create_dataset(test, look_back)\n",
    "all_X,all_Y=create_dataset(dataset,look_back)\n"
   ]
  },
  {
   "cell_type": "code",
   "execution_count": 26,
   "metadata": {},
   "outputs": [
    {
     "data": {
      "text/plain": [
       "array([[0.        , 0.3886627 , 0.39114722],\n",
       "       [0.3886627 , 0.39114722, 0.4298468 ],\n",
       "       [0.39114722, 0.4298468 , 0.45728626],\n",
       "       [0.4298468 , 0.45728626, 0.52579215],\n",
       "       [0.45728626, 0.52579215, 0.50707968],\n",
       "       [0.52579215, 0.50707968, 0.60614839],\n",
       "       [0.50707968, 0.60614839, 0.68868089],\n",
       "       [0.60614839, 0.68868089, 0.75023788],\n",
       "       [0.68868089, 0.75023788, 0.76563432],\n",
       "       [0.75023788, 0.76563432, 0.88580779],\n",
       "       [0.76563432, 0.88580779, 0.78091003],\n",
       "       [0.88580779, 0.78091003, 0.9259304 ],\n",
       "       [0.78091003, 0.9259304 , 0.90214147],\n",
       "       [0.9259304 , 0.90214147, 0.91039603],\n",
       "       [0.90214147, 0.91039603, 0.94080777],\n",
       "       [0.91039603, 0.94080777, 0.95353354],\n",
       "       [0.94080777, 0.95353354, 0.97303745],\n",
       "       [0.95353354, 0.97303745, 1.        ],\n",
       "       [0.97303745, 1.        , 0.99252927],\n",
       "       [1.        , 0.99252927, 0.96930356]])"
      ]
     },
     "execution_count": 26,
     "metadata": {},
     "output_type": "execute_result"
    }
   ],
   "source": [
    "trainX"
   ]
  },
  {
   "cell_type": "code",
   "execution_count": 27,
   "metadata": {},
   "outputs": [
    {
     "data": {
      "text/plain": [
       "array([0.4298468 , 0.45728626, 0.52579215, 0.50707968, 0.60614839,\n",
       "       0.68868089, 0.75023788, 0.76563432, 0.88580779, 0.78091003,\n",
       "       0.9259304 , 0.90214147, 0.91039603, 0.94080777, 0.95353354,\n",
       "       0.97303745, 1.        , 0.99252927, 0.96930356, 0.98040027])"
      ]
     },
     "execution_count": 27,
     "metadata": {},
     "output_type": "execute_result"
    }
   ],
   "source": [
    "trainY"
   ]
  },
  {
   "cell_type": "code",
   "execution_count": 28,
   "metadata": {},
   "outputs": [],
   "source": [
    "\n",
    "# reshape input to be [samples, time steps, features]\n",
    "trainX = np.reshape(trainX, (trainX.shape[0], 1, trainX.shape[1]))\n",
    "testX = np.reshape(testX, (testX.shape[0], 1, testX.shape[1]))\n",
    "all_X = np.reshape(all_X, (all_X.shape[0], 1, all_X.shape[1]))"
   ]
  },
  {
   "cell_type": "code",
   "execution_count": 29,
   "metadata": {},
   "outputs": [
    {
     "data": {
      "text/plain": [
       "array([[[0.        , 0.3886627 , 0.39114722]],\n",
       "\n",
       "       [[0.3886627 , 0.39114722, 0.4298468 ]],\n",
       "\n",
       "       [[0.39114722, 0.4298468 , 0.45728626]],\n",
       "\n",
       "       [[0.4298468 , 0.45728626, 0.52579215]],\n",
       "\n",
       "       [[0.45728626, 0.52579215, 0.50707968]],\n",
       "\n",
       "       [[0.52579215, 0.50707968, 0.60614839]],\n",
       "\n",
       "       [[0.50707968, 0.60614839, 0.68868089]],\n",
       "\n",
       "       [[0.60614839, 0.68868089, 0.75023788]],\n",
       "\n",
       "       [[0.68868089, 0.75023788, 0.76563432]],\n",
       "\n",
       "       [[0.75023788, 0.76563432, 0.88580779]],\n",
       "\n",
       "       [[0.76563432, 0.88580779, 0.78091003]],\n",
       "\n",
       "       [[0.88580779, 0.78091003, 0.9259304 ]],\n",
       "\n",
       "       [[0.78091003, 0.9259304 , 0.90214147]],\n",
       "\n",
       "       [[0.9259304 , 0.90214147, 0.91039603]],\n",
       "\n",
       "       [[0.90214147, 0.91039603, 0.94080777]],\n",
       "\n",
       "       [[0.91039603, 0.94080777, 0.95353354]],\n",
       "\n",
       "       [[0.94080777, 0.95353354, 0.97303745]],\n",
       "\n",
       "       [[0.95353354, 0.97303745, 1.        ]],\n",
       "\n",
       "       [[0.97303745, 1.        , 0.99252927]],\n",
       "\n",
       "       [[1.        , 0.99252927, 0.96930356]]])"
      ]
     },
     "execution_count": 29,
     "metadata": {},
     "output_type": "execute_result"
    }
   ],
   "source": [
    "trainX"
   ]
  },
  {
   "cell_type": "code",
   "execution_count": 30,
   "metadata": {},
   "outputs": [
    {
     "name": "stdout",
     "output_type": "stream",
     "text": [
      "(20, 1, 3) (20, 1, 3)\n"
     ]
    }
   ],
   "source": [
    "print(trainX.shape, testX.shape)"
   ]
  },
  {
   "cell_type": "code",
   "execution_count": 31,
   "metadata": {},
   "outputs": [
    {
     "name": "stderr",
     "output_type": "stream",
     "text": [
      "WARNING: Logging before flag parsing goes to stderr.\n",
      "W0208 10:20:32.827600  2576 deprecation_wrapper.py:119] From C:\\ProgramData\\Anaconda3\\lib\\site-packages\\keras\\backend\\tensorflow_backend.py:74: The name tf.get_default_graph is deprecated. Please use tf.compat.v1.get_default_graph instead.\n",
      "\n",
      "W0208 10:20:35.142029  2576 deprecation_wrapper.py:119] From C:\\ProgramData\\Anaconda3\\lib\\site-packages\\keras\\backend\\tensorflow_backend.py:517: The name tf.placeholder is deprecated. Please use tf.compat.v1.placeholder instead.\n",
      "\n",
      "W0208 10:20:36.662845  2576 deprecation_wrapper.py:119] From C:\\ProgramData\\Anaconda3\\lib\\site-packages\\keras\\backend\\tensorflow_backend.py:4138: The name tf.random_uniform is deprecated. Please use tf.random.uniform instead.\n",
      "\n",
      "W0208 10:20:43.519167  2576 deprecation_wrapper.py:119] From C:\\ProgramData\\Anaconda3\\lib\\site-packages\\keras\\backend\\tensorflow_backend.py:133: The name tf.placeholder_with_default is deprecated. Please use tf.compat.v1.placeholder_with_default instead.\n",
      "\n",
      "W0208 10:20:43.553147  2576 deprecation.py:506] From C:\\ProgramData\\Anaconda3\\lib\\site-packages\\keras\\backend\\tensorflow_backend.py:3445: calling dropout (from tensorflow.python.ops.nn_ops) with keep_prob is deprecated and will be removed in a future version.\n",
      "Instructions for updating:\n",
      "Please use `rate` instead of `keep_prob`. Rate should be set to `rate = 1 - keep_prob`.\n",
      "W0208 10:20:45.075496  2576 deprecation_wrapper.py:119] From C:\\ProgramData\\Anaconda3\\lib\\site-packages\\keras\\optimizers.py:790: The name tf.train.Optimizer is deprecated. Please use tf.compat.v1.train.Optimizer instead.\n",
      "\n"
     ]
    },
    {
     "name": "stdout",
     "output_type": "stream",
     "text": [
      "_________________________________________________________________\n",
      "Layer (type)                 Output Shape              Param #   \n",
      "=================================================================\n",
      "lstm_1 (LSTM)                (None, 1, 50)             10800     \n",
      "_________________________________________________________________\n",
      "dropout_1 (Dropout)          (None, 1, 50)             0         \n",
      "_________________________________________________________________\n",
      "lstm_2 (LSTM)                (None, 1, 130)            94120     \n",
      "_________________________________________________________________\n",
      "dropout_2 (Dropout)          (None, 1, 130)            0         \n",
      "_________________________________________________________________\n",
      "lstm_3 (LSTM)                (None, 30)                19320     \n",
      "_________________________________________________________________\n",
      "dense_1 (Dense)              (None, 1)                 31        \n",
      "=================================================================\n",
      "Total params: 124,271\n",
      "Trainable params: 124,271\n",
      "Non-trainable params: 0\n",
      "_________________________________________________________________\n",
      "None\n"
     ]
    }
   ],
   "source": [
    "# create and fit the LSTM network\n",
    "model = Sequential()\n",
    "model.add(LSTM(units=50, return_sequences=True,input_shape=(trainX.shape[1], trainX.shape[2])))\n",
    "model.add(Dropout(0.2))\n",
    "model.add(LSTM(units=130, return_sequences=True))\n",
    "model.add(Dropout(0.2))\n",
    "model.add(LSTM(units=30))\n",
    "#model.add(Dropout(0.2))\n",
    "model.add(Dense(1))\n",
    "model.compile(loss='mean_squared_error', optimizer='adam')\n",
    "print(model.summary())"
   ]
  },
  {
   "cell_type": "code",
   "execution_count": 32,
   "metadata": {},
   "outputs": [
    {
     "name": "stderr",
     "output_type": "stream",
     "text": [
      "W0208 10:20:47.578477  2576 deprecation.py:323] From C:\\Users\\Changbing Yang\\AppData\\Roaming\\Python\\Python37\\site-packages\\tensorflow\\python\\ops\\math_grad.py:1250: add_dispatch_support.<locals>.wrapper (from tensorflow.python.ops.array_ops) is deprecated and will be removed in a future version.\n",
      "Instructions for updating:\n",
      "Use tf.where in 2.0, which has the same broadcast rule as np.where\n",
      "W0208 10:20:50.831943  2576 deprecation_wrapper.py:119] From C:\\ProgramData\\Anaconda3\\lib\\site-packages\\keras\\backend\\tensorflow_backend.py:986: The name tf.assign_add is deprecated. Please use tf.compat.v1.assign_add instead.\n",
      "\n"
     ]
    },
    {
     "name": "stdout",
     "output_type": "stream",
     "text": [
      "Train on 18 samples, validate on 2 samples\n",
      "Epoch 1/200\n",
      " - 10s - loss: 0.6134 - val_loss: 0.8572\n",
      "Epoch 2/200\n",
      " - 0s - loss: 0.5351 - val_loss: 0.7217\n",
      "Epoch 3/200\n",
      " - 0s - loss: 0.4141 - val_loss: 0.4970\n",
      "Epoch 4/200\n",
      " - 0s - loss: 0.2285 - val_loss: 0.1779\n",
      "Epoch 5/200\n",
      " - 0s - loss: 0.0486 - val_loss: 0.0017\n",
      "Epoch 6/200\n",
      " - 0s - loss: 0.0200 - val_loss: 0.0305\n",
      "Epoch 7/200\n",
      " - 0s - loss: 0.0135 - val_loss: 0.0047\n",
      "Epoch 8/200\n",
      " - 0s - loss: 0.0093 - val_loss: 0.0134\n",
      "Epoch 9/200\n",
      " - 0s - loss: 0.0066 - val_loss: 0.0038\n",
      "Epoch 10/200\n",
      " - 0s - loss: 0.0062 - val_loss: 0.0016\n",
      "Epoch 11/200\n",
      " - 0s - loss: 0.0104 - val_loss: 9.3118e-04\n",
      "Epoch 12/200\n",
      " - 0s - loss: 0.0062 - val_loss: 0.0016\n",
      "Epoch 13/200\n",
      " - 0s - loss: 0.0096 - val_loss: 0.0012\n",
      "Epoch 14/200\n",
      " - 0s - loss: 0.0046 - val_loss: 0.0026\n",
      "Epoch 15/200\n",
      " - 0s - loss: 0.0107 - val_loss: 9.5715e-05\n",
      "Epoch 16/200\n",
      " - 0s - loss: 0.0072 - val_loss: 0.0042\n",
      "Epoch 17/200\n",
      " - 0s - loss: 0.0069 - val_loss: 3.7931e-04\n",
      "Epoch 18/200\n",
      " - 0s - loss: 0.0075 - val_loss: 7.3670e-04\n",
      "Epoch 19/200\n",
      " - 0s - loss: 0.0107 - val_loss: 9.5884e-05\n",
      "Epoch 20/200\n",
      " - 0s - loss: 0.0066 - val_loss: 0.0016\n",
      "Epoch 21/200\n",
      " - 0s - loss: 0.0054 - val_loss: 0.0013\n",
      "Epoch 22/200\n",
      " - 0s - loss: 0.0083 - val_loss: 0.0019\n",
      "Epoch 23/200\n",
      " - 0s - loss: 0.0083 - val_loss: 8.0489e-04\n",
      "Epoch 24/200\n",
      " - 0s - loss: 0.0078 - val_loss: 4.3110e-05\n",
      "Epoch 25/200\n",
      " - 0s - loss: 0.0059 - val_loss: 2.6971e-04\n",
      "Epoch 26/200\n",
      " - 0s - loss: 0.0073 - val_loss: 1.2655e-04\n",
      "Epoch 27/200\n",
      " - 0s - loss: 0.0037 - val_loss: 8.4093e-05\n",
      "Epoch 28/200\n",
      " - 0s - loss: 0.0077 - val_loss: 4.9774e-04\n",
      "Epoch 29/200\n",
      " - 0s - loss: 0.0077 - val_loss: 0.0101\n",
      "Epoch 30/200\n",
      " - 0s - loss: 0.0117 - val_loss: 0.0011\n",
      "Epoch 31/200\n",
      " - 0s - loss: 0.0102 - val_loss: 0.0018\n",
      "Epoch 32/200\n",
      " - 0s - loss: 0.0039 - val_loss: 6.6520e-04\n",
      "Epoch 33/200\n",
      " - 0s - loss: 0.0055 - val_loss: 0.0018\n",
      "Epoch 34/200\n",
      " - 0s - loss: 0.0067 - val_loss: 0.0031\n",
      "Epoch 35/200\n",
      " - 0s - loss: 0.0062 - val_loss: 3.7944e-04\n",
      "Epoch 36/200\n",
      " - 0s - loss: 0.0042 - val_loss: 5.2109e-04\n",
      "Epoch 37/200\n",
      " - 0s - loss: 0.0047 - val_loss: 1.2013e-04\n",
      "Epoch 38/200\n",
      " - 0s - loss: 0.0057 - val_loss: 7.5937e-04\n",
      "Epoch 39/200\n",
      " - 0s - loss: 0.0058 - val_loss: 0.0030\n",
      "Epoch 40/200\n",
      " - 0s - loss: 0.0034 - val_loss: 3.9880e-04\n",
      "Epoch 41/200\n",
      " - 0s - loss: 0.0078 - val_loss: 6.1788e-05\n",
      "Epoch 42/200\n",
      " - 0s - loss: 0.0053 - val_loss: 4.4245e-05\n",
      "Epoch 43/200\n",
      " - 0s - loss: 0.0052 - val_loss: 5.1251e-04\n",
      "Epoch 44/200\n",
      " - 0s - loss: 0.0070 - val_loss: 0.0012\n",
      "Epoch 45/200\n",
      " - 0s - loss: 0.0078 - val_loss: 7.9810e-04\n",
      "Epoch 46/200\n",
      " - 0s - loss: 0.0092 - val_loss: 7.9644e-04\n",
      "Epoch 47/200\n",
      " - 0s - loss: 0.0080 - val_loss: 0.0074\n",
      "Epoch 48/200\n",
      " - 0s - loss: 0.0069 - val_loss: 0.0018\n",
      "Epoch 49/200\n",
      " - 0s - loss: 0.0051 - val_loss: 4.7744e-05\n",
      "Epoch 50/200\n",
      " - 0s - loss: 0.0036 - val_loss: 4.1478e-05\n",
      "Epoch 51/200\n",
      " - 0s - loss: 0.0049 - val_loss: 1.9193e-04\n",
      "Epoch 52/200\n",
      " - 0s - loss: 0.0039 - val_loss: 0.0017\n",
      "Epoch 53/200\n",
      " - 0s - loss: 0.0060 - val_loss: 0.0026\n",
      "Epoch 54/200\n",
      " - 0s - loss: 0.0039 - val_loss: 2.9091e-04\n",
      "Epoch 55/200\n",
      " - 0s - loss: 0.0075 - val_loss: 3.3386e-04\n",
      "Epoch 56/200\n",
      " - 0s - loss: 0.0061 - val_loss: 0.0026\n",
      "Epoch 57/200\n",
      " - 0s - loss: 0.0051 - val_loss: 0.0065\n",
      "Epoch 58/200\n",
      " - 0s - loss: 0.0110 - val_loss: 0.0018\n",
      "Epoch 59/200\n",
      " - 0s - loss: 0.0097 - val_loss: 0.0053\n",
      "Epoch 60/200\n",
      " - 0s - loss: 0.0068 - val_loss: 7.8803e-05\n",
      "Epoch 61/200\n",
      " - 0s - loss: 0.0039 - val_loss: 0.0020\n",
      "Epoch 62/200\n",
      " - 0s - loss: 0.0031 - val_loss: 0.0063\n",
      "Epoch 63/200\n",
      " - 0s - loss: 0.0035 - val_loss: 2.0975e-04\n",
      "Epoch 64/200\n",
      " - 0s - loss: 0.0056 - val_loss: 6.9447e-05\n",
      "Epoch 65/200\n",
      " - 0s - loss: 0.0051 - val_loss: 0.0015\n",
      "Epoch 66/200\n",
      " - 0s - loss: 0.0054 - val_loss: 6.1888e-04\n",
      "Epoch 67/200\n",
      " - 0s - loss: 0.0054 - val_loss: 0.0032\n",
      "Epoch 68/200\n",
      " - 0s - loss: 0.0038 - val_loss: 0.0055\n",
      "Epoch 69/200\n",
      " - 0s - loss: 0.0123 - val_loss: 1.2187e-04\n",
      "Epoch 70/200\n",
      " - 0s - loss: 0.0048 - val_loss: 0.0031\n",
      "Epoch 71/200\n",
      " - 0s - loss: 0.0028 - val_loss: 0.0022\n",
      "Epoch 72/200\n",
      " - 0s - loss: 0.0032 - val_loss: 4.0573e-04\n",
      "Epoch 73/200\n",
      " - 0s - loss: 0.0033 - val_loss: 0.0056\n",
      "Epoch 74/200\n",
      " - 0s - loss: 0.0041 - val_loss: 0.0014\n",
      "Epoch 75/200\n",
      " - 0s - loss: 0.0043 - val_loss: 0.0033\n",
      "Epoch 76/200\n",
      " - 0s - loss: 0.0027 - val_loss: 2.9173e-04\n",
      "Epoch 77/200\n",
      " - 0s - loss: 0.0053 - val_loss: 8.7007e-05\n",
      "Epoch 78/200\n",
      " - 0s - loss: 0.0039 - val_loss: 8.9602e-04\n",
      "Epoch 79/200\n",
      " - 0s - loss: 0.0045 - val_loss: 0.0035\n",
      "Epoch 80/200\n",
      " - 0s - loss: 0.0078 - val_loss: 4.1096e-05\n",
      "Epoch 81/200\n",
      " - 0s - loss: 0.0070 - val_loss: 0.0031\n",
      "Epoch 82/200\n",
      " - 0s - loss: 0.0034 - val_loss: 2.6394e-04\n",
      "Epoch 83/200\n",
      " - 0s - loss: 0.0047 - val_loss: 0.0014\n",
      "Epoch 84/200\n",
      " - 0s - loss: 0.0050 - val_loss: 0.0038\n",
      "Epoch 85/200\n",
      " - 0s - loss: 0.0058 - val_loss: 7.4413e-05\n",
      "Epoch 86/200\n",
      " - 0s - loss: 0.0038 - val_loss: 1.1537e-04\n",
      "Epoch 87/200\n",
      " - 0s - loss: 0.0052 - val_loss: 0.0021\n",
      "Epoch 88/200\n",
      " - 0s - loss: 0.0069 - val_loss: 1.4195e-04\n",
      "Epoch 89/200\n",
      " - 0s - loss: 0.0035 - val_loss: 4.1287e-05\n",
      "Epoch 90/200\n",
      " - 0s - loss: 0.0032 - val_loss: 0.0028\n",
      "Epoch 91/200\n",
      " - 0s - loss: 0.0068 - val_loss: 2.5094e-04\n",
      "Epoch 92/200\n",
      " - 0s - loss: 0.0038 - val_loss: 4.6128e-05\n",
      "Epoch 93/200\n",
      " - 0s - loss: 0.0045 - val_loss: 0.0012\n",
      "Epoch 94/200\n",
      " - 0s - loss: 0.0067 - val_loss: 9.7708e-04\n",
      "Epoch 95/200\n",
      " - 0s - loss: 0.0026 - val_loss: 6.6127e-05\n",
      "Epoch 96/200\n",
      " - 0s - loss: 0.0055 - val_loss: 0.0029\n",
      "Epoch 97/200\n",
      " - 0s - loss: 0.0043 - val_loss: 0.0072\n",
      "Epoch 98/200\n",
      " - 0s - loss: 0.0051 - val_loss: 0.0015\n",
      "Epoch 99/200\n",
      " - 0s - loss: 0.0066 - val_loss: 1.9329e-04\n",
      "Epoch 100/200\n",
      " - 0s - loss: 0.0069 - val_loss: 0.0027\n",
      "Epoch 101/200\n",
      " - 0s - loss: 0.0049 - val_loss: 2.5426e-04\n",
      "Epoch 102/200\n",
      " - 0s - loss: 0.0034 - val_loss: 5.0568e-04\n",
      "Epoch 103/200\n",
      " - 0s - loss: 0.0064 - val_loss: 0.0023\n",
      "Epoch 104/200\n",
      " - 0s - loss: 0.0053 - val_loss: 4.3568e-05\n",
      "Epoch 105/200\n",
      " - 0s - loss: 0.0036 - val_loss: 4.5506e-04\n",
      "Epoch 106/200\n",
      " - 0s - loss: 0.0034 - val_loss: 0.0015\n",
      "Epoch 107/200\n",
      " - 0s - loss: 0.0029 - val_loss: 4.3546e-05\n",
      "Epoch 108/200\n",
      " - 0s - loss: 0.0072 - val_loss: 0.0026\n",
      "Epoch 109/200\n",
      " - 0s - loss: 0.0038 - val_loss: 0.0020\n",
      "Epoch 110/200\n",
      " - 0s - loss: 0.0058 - val_loss: 0.0035\n",
      "Epoch 111/200\n",
      " - 0s - loss: 0.0023 - val_loss: 1.4946e-04\n",
      "Epoch 112/200\n",
      " - 0s - loss: 0.0069 - val_loss: 4.6520e-04\n",
      "Epoch 113/200\n",
      " - 0s - loss: 0.0026 - val_loss: 0.0015\n",
      "Epoch 114/200\n",
      " - 0s - loss: 0.0064 - val_loss: 0.0042\n",
      "Epoch 115/200\n",
      " - 0s - loss: 0.0040 - val_loss: 6.3678e-05\n",
      "Epoch 116/200\n",
      " - 0s - loss: 0.0049 - val_loss: 3.9273e-04\n",
      "Epoch 117/200\n",
      " - 0s - loss: 0.0066 - val_loss: 0.0037\n",
      "Epoch 118/200\n",
      " - 0s - loss: 0.0042 - val_loss: 4.1484e-05\n",
      "Epoch 119/200\n",
      " - 0s - loss: 0.0034 - val_loss: 2.2002e-04\n",
      "Epoch 120/200\n",
      " - 0s - loss: 0.0045 - val_loss: 3.9700e-05\n",
      "Epoch 121/200\n",
      " - 0s - loss: 0.0044 - val_loss: 3.1875e-04\n",
      "Epoch 122/200\n",
      " - 0s - loss: 0.0067 - val_loss: 8.5984e-04\n",
      "Epoch 123/200\n",
      " - 0s - loss: 0.0029 - val_loss: 0.0040\n",
      "Epoch 124/200\n",
      " - 0s - loss: 0.0072 - val_loss: 4.9633e-04\n",
      "Epoch 125/200\n",
      " - 0s - loss: 0.0044 - val_loss: 0.0013\n",
      "Epoch 126/200\n",
      " - 0s - loss: 0.0056 - val_loss: 0.0010\n",
      "Epoch 127/200\n",
      " - 0s - loss: 0.0036 - val_loss: 3.2440e-04\n",
      "Epoch 128/200\n",
      " - 0s - loss: 0.0044 - val_loss: 0.0025\n",
      "Epoch 129/200\n",
      " - 0s - loss: 0.0035 - val_loss: 4.1941e-05\n",
      "Epoch 130/200\n",
      " - 0s - loss: 0.0035 - val_loss: 0.0024\n",
      "Epoch 131/200\n",
      " - 0s - loss: 0.0042 - val_loss: 2.2328e-04\n",
      "Epoch 132/200\n",
      " - 0s - loss: 0.0046 - val_loss: 2.2737e-04\n",
      "Epoch 133/200\n",
      " - 0s - loss: 0.0027 - val_loss: 4.7473e-04\n",
      "Epoch 134/200\n",
      " - 0s - loss: 0.0069 - val_loss: 0.0048\n",
      "Epoch 135/200\n",
      " - 0s - loss: 0.0056 - val_loss: 8.5419e-05\n",
      "Epoch 136/200\n",
      " - 0s - loss: 0.0033 - val_loss: 0.0016\n",
      "Epoch 137/200\n",
      " - 0s - loss: 0.0040 - val_loss: 0.0041\n",
      "Epoch 138/200\n",
      " - 0s - loss: 0.0057 - val_loss: 0.0014\n",
      "Epoch 139/200\n",
      " - 0s - loss: 0.0044 - val_loss: 8.9596e-04\n",
      "Epoch 140/200\n",
      " - 0s - loss: 0.0053 - val_loss: 7.7421e-04\n",
      "Epoch 141/200\n",
      " - 0s - loss: 0.0037 - val_loss: 0.0023\n",
      "Epoch 142/200\n",
      " - 0s - loss: 0.0037 - val_loss: 4.4187e-04\n",
      "Epoch 143/200\n",
      " - 0s - loss: 0.0047 - val_loss: 0.0015\n",
      "Epoch 144/200\n",
      " - 0s - loss: 0.0037 - val_loss: 0.0013\n",
      "Epoch 145/200\n",
      " - 0s - loss: 0.0034 - val_loss: 1.7152e-04\n",
      "Epoch 146/200\n",
      " - 0s - loss: 0.0046 - val_loss: 0.0049\n",
      "Epoch 147/200\n",
      " - 0s - loss: 0.0045 - val_loss: 9.0106e-04\n",
      "Epoch 148/200\n",
      " - 0s - loss: 0.0032 - val_loss: 8.2207e-05\n"
     ]
    },
    {
     "name": "stdout",
     "output_type": "stream",
     "text": [
      "Epoch 149/200\n",
      " - 0s - loss: 0.0040 - val_loss: 8.0782e-04\n",
      "Epoch 150/200\n",
      " - 0s - loss: 0.0045 - val_loss: 0.0022\n",
      "Epoch 151/200\n",
      " - 0s - loss: 0.0018 - val_loss: 0.0012\n",
      "Epoch 152/200\n",
      " - 0s - loss: 0.0019 - val_loss: 0.0013\n",
      "Epoch 153/200\n",
      " - 0s - loss: 0.0038 - val_loss: 7.1164e-05\n",
      "Epoch 154/200\n",
      " - 0s - loss: 0.0055 - val_loss: 8.2448e-04\n",
      "Epoch 155/200\n",
      " - 0s - loss: 0.0051 - val_loss: 6.5807e-04\n",
      "Epoch 156/200\n",
      " - 0s - loss: 0.0058 - val_loss: 6.5526e-05\n",
      "Epoch 157/200\n",
      " - 0s - loss: 0.0035 - val_loss: 0.0067\n",
      "Epoch 158/200\n",
      " - 0s - loss: 0.0064 - val_loss: 3.7289e-04\n",
      "Epoch 159/200\n",
      " - 0s - loss: 0.0055 - val_loss: 3.8764e-05\n",
      "Epoch 160/200\n",
      " - 0s - loss: 0.0040 - val_loss: 0.0023\n",
      "Epoch 161/200\n",
      " - 0s - loss: 0.0026 - val_loss: 6.2561e-04\n",
      "Epoch 162/200\n",
      " - 0s - loss: 0.0034 - val_loss: 6.1996e-04\n",
      "Epoch 163/200\n",
      " - 0s - loss: 0.0063 - val_loss: 9.1712e-04\n",
      "Epoch 164/200\n",
      " - 0s - loss: 0.0047 - val_loss: 1.3487e-04\n",
      "Epoch 165/200\n",
      " - 0s - loss: 0.0063 - val_loss: 0.0048\n",
      "Epoch 166/200\n",
      " - 0s - loss: 0.0035 - val_loss: 5.8565e-05\n",
      "Epoch 167/200\n",
      " - 0s - loss: 0.0052 - val_loss: 0.0021\n",
      "Epoch 168/200\n",
      " - 0s - loss: 0.0034 - val_loss: 0.0015\n",
      "Epoch 169/200\n",
      " - 0s - loss: 0.0037 - val_loss: 4.7316e-05\n",
      "Epoch 170/200\n",
      " - 0s - loss: 0.0057 - val_loss: 0.0044\n",
      "Epoch 171/200\n",
      " - 0s - loss: 0.0037 - val_loss: 0.0025\n",
      "Epoch 172/200\n",
      " - 0s - loss: 0.0041 - val_loss: 3.1896e-04\n",
      "Epoch 173/200\n",
      " - 0s - loss: 0.0036 - val_loss: 1.9681e-04\n",
      "Epoch 174/200\n",
      " - 0s - loss: 0.0041 - val_loss: 8.2938e-04\n",
      "Epoch 175/200\n",
      " - 0s - loss: 0.0039 - val_loss: 0.0023\n",
      "Epoch 176/200\n",
      " - 0s - loss: 0.0055 - val_loss: 8.8348e-04\n",
      "Epoch 177/200\n",
      " - 0s - loss: 0.0021 - val_loss: 3.8355e-05\n",
      "Epoch 178/200\n",
      " - 0s - loss: 0.0034 - val_loss: 0.0029\n",
      "Epoch 179/200\n",
      " - 0s - loss: 0.0033 - val_loss: 3.9020e-04\n",
      "Epoch 180/200\n",
      " - 0s - loss: 0.0031 - val_loss: 4.7092e-05\n",
      "Epoch 181/200\n",
      " - 0s - loss: 0.0043 - val_loss: 0.0020\n",
      "Epoch 182/200\n",
      " - 0s - loss: 0.0038 - val_loss: 1.2992e-04\n",
      "Epoch 183/200\n",
      " - 0s - loss: 0.0034 - val_loss: 1.0550e-04\n",
      "Epoch 184/200\n",
      " - 0s - loss: 0.0044 - val_loss: 0.0042\n",
      "Epoch 185/200\n",
      " - 0s - loss: 0.0066 - val_loss: 3.1869e-04\n",
      "Epoch 186/200\n",
      " - 0s - loss: 0.0050 - val_loss: 1.4134e-04\n",
      "Epoch 187/200\n",
      " - 0s - loss: 0.0035 - val_loss: 0.0016\n",
      "Epoch 188/200\n",
      " - 0s - loss: 0.0030 - val_loss: 1.5161e-04\n",
      "Epoch 189/200\n",
      " - 0s - loss: 0.0048 - val_loss: 7.9458e-05\n",
      "Epoch 190/200\n",
      " - 0s - loss: 0.0028 - val_loss: 7.0225e-04\n",
      "Epoch 191/200\n",
      " - 0s - loss: 0.0028 - val_loss: 3.9285e-04\n",
      "Epoch 192/200\n",
      " - 0s - loss: 0.0025 - val_loss: 3.8694e-04\n",
      "Epoch 193/200\n",
      " - 0s - loss: 0.0030 - val_loss: 0.0015\n",
      "Epoch 194/200\n",
      " - 0s - loss: 0.0021 - val_loss: 2.4307e-04\n",
      "Epoch 195/200\n",
      " - 0s - loss: 0.0032 - val_loss: 1.0842e-04\n",
      "Epoch 196/200\n",
      " - 0s - loss: 0.0027 - val_loss: 0.0011\n",
      "Epoch 197/200\n",
      " - 0s - loss: 0.0026 - val_loss: 1.0061e-04\n",
      "Epoch 198/200\n",
      " - 0s - loss: 0.0019 - val_loss: 5.1178e-05\n",
      "Epoch 199/200\n",
      " - 0s - loss: 0.0024 - val_loss: 1.4772e-04\n",
      "Epoch 200/200\n",
      " - 0s - loss: 0.0017 - val_loss: 2.3297e-04\n"
     ]
    }
   ],
   "source": [
    "history=model.fit(trainX, trainY, epochs=200, batch_size=2, validation_split=0.1,verbose=2)  #validation_split=0.05,"
   ]
  },
  {
   "cell_type": "code",
   "execution_count": 33,
   "metadata": {},
   "outputs": [
    {
     "data": {
      "image/png": "[encoded data removed]",
      "text/plain": [
       "<Figure size 432x288 with 1 Axes>"
      ]
     },
     "metadata": {
      "needs_background": "light"
     },
     "output_type": "display_data"
    }
   ],
   "source": [
    "# plot history\n",
    "plt.plot(history.history['loss'], label='train')\n",
    "plt.plot(history.history['val_loss'], label='cros_validation')\n",
    "plt.legend()\n",
    "plt.show()"
   ]
  },
  {
   "cell_type": "code",
   "execution_count": 34,
   "metadata": {},
   "outputs": [],
   "source": [
    "# make predictions\n",
    "trainPredict = model.predict(trainX)\n",
    "testPredict = model.predict(testX)\n"
   ]
  },
  {
   "cell_type": "code",
   "execution_count": 35,
   "metadata": {},
   "outputs": [
    {
     "data": {
      "text/plain": [
       "(20, 1)"
      ]
     },
     "execution_count": 35,
     "metadata": {},
     "output_type": "execute_result"
    }
   ],
   "source": [
    "trainPredict.shape"
   ]
  },
  {
   "cell_type": "code",
   "execution_count": 36,
   "metadata": {},
   "outputs": [
    {
     "data": {
      "text/plain": [
       "(20,)"
      ]
     },
     "execution_count": 36,
     "metadata": {},
     "output_type": "execute_result"
    }
   ],
   "source": [
    "trainY.shape"
   ]
  },
  {
   "cell_type": "code",
   "execution_count": 37,
   "metadata": {},
   "outputs": [],
   "source": [
    "y1=trainPredict.reshape(trainPredict.shape[0])"
   ]
  },
  {
   "cell_type": "code",
   "execution_count": 38,
   "metadata": {},
   "outputs": [
    {
     "data": {
      "text/plain": [
       "[<matplotlib.lines.Line2D at 0x1fca3e3b860>]"
      ]
     },
     "execution_count": 38,
     "metadata": {},
     "output_type": "execute_result"
    },
    {
     "data": {
      "image/png": "[encoded data removed]",
      "text/plain": [
       "<Figure size 432x288 with 1 Axes>"
      ]
     },
     "metadata": {
      "needs_background": "light"
     },
     "output_type": "display_data"
    }
   ],
   "source": [
    "plt.plot(y1,trainY,'ro')"
   ]
  },
  {
   "cell_type": "code",
   "execution_count": 39,
   "metadata": {},
   "outputs": [],
   "source": [
    "# invert predictions\n",
    "#trainPred = sc.inverse_transform(trainPredict)"
   ]
  },
  {
   "cell_type": "code",
   "execution_count": 40,
   "metadata": {},
   "outputs": [
    {
     "name": "stdout",
     "output_type": "stream",
     "text": [
      "Train Score: 0.27 RMSE\n",
      "Test Score: 0.27 RMSE\n"
     ]
    }
   ],
   "source": [
    "# invert predictions\n",
    "trainPredict = sc.inverse_transform(trainPredict)\n",
    "trainY = sc.inverse_transform([trainY])\n",
    "testPredict = sc.inverse_transform(testPredict)\n",
    "testY = sc.inverse_transform([testY])\n",
    "# calculate root mean squared error\n",
    "trainScore = sqrt(mean_squared_error(trainY[0], trainPredict[:,0]))\n",
    "print('Train Score: %.2f RMSE' % (trainScore))\n",
    "testScore = sqrt(mean_squared_error(testY[0], testPredict[:,0]))\n",
    "print('Test Score: %.2f RMSE' % (testScore))"
   ]
  },
  {
   "cell_type": "code",
   "execution_count": 41,
   "metadata": {},
   "outputs": [
    {
     "data": {
      "image/png": "[encoded data removed]",
      "text/plain": [
       "<Figure size 720x576 with 1 Axes>"
      ]
     },
     "metadata": {
      "needs_background": "light"
     },
     "output_type": "display_data"
    }
   ],
   "source": [
    "# plot baseline and predictions\n",
    "fig = plt.figure(figsize=(10, 8))\n",
    "plt.plot(trainY[0,:],trainPredict[:,0],'bo',label='Train')\n",
    "#plt.plot(testY[0,:],testPredict[:,0],'y^',label='Test')\n",
    "upperb=np.amax([np.amax(trainPredict[:,0]),np.amax(testPredict[:,0])])\n",
    "lowera=np.amin([np.amin(trainPredict[:,0]),np.amin(testPredict[:,0])])\n",
    "plt.plot([0,10],[0,10],'r-',label='1:1 line')\n",
    "#plt.plot(trainPredictPlot)\n",
    "#plt.plot(testPredictPlot)\n",
    "plt.ylim(5,9)\n",
    "plt.xlim(5,9)\n",
    "\n",
    "plt.ylabel('log(predicted increase number)')\n",
    "plt.xlabel('log(actual increased number)')    \n",
    "    \n",
    "    #plt.xlim(5000,1000000)\n",
    "#plt.ylim(5000,1000000)\n",
    "\n",
    "\n",
    "plt.legend()\n",
    "plt.show()"
   ]
  },
  {
   "cell_type": "code",
   "execution_count": 42,
   "metadata": {},
   "outputs": [],
   "source": [
    "def recover_to_time_series(Yhat,initime):\n",
    "    \n",
    "    nperiod=len(Yhat)\n",
    "    date=pd.period_range(initime,periods=nperiod,freq='D')\n",
    "    print(len(date),len(Yhat[:,0]))\n",
    "    y=pd.DataFrame({'date':date,'predicted':Yhat[:,0]})\n",
    "    y=y.reset_index(drop=True).set_index('date')\n",
    "    \n",
    "    return y\n",
    "    \n",
    "    "
   ]
  },
  {
   "cell_type": "code",
   "execution_count": null,
   "metadata": {},
   "outputs": [],
   "source": []
  },
  {
   "cell_type": "code",
   "execution_count": 43,
   "metadata": {},
   "outputs": [
    {
     "name": "stdout",
     "output_type": "stream",
     "text": [
      "20 20\n"
     ]
    },
    {
     "data": {
      "image/png": "[encoded data removed]",
      "text/plain": [
       "<Figure size 720x576 with 1 Axes>"
      ]
     },
     "metadata": {
      "needs_background": "light"
     },
     "output_type": "display_data"
    }
   ],
   "source": [
    "initime=df.index[look_back]\n",
    "predict_new=recover_to_time_series(trainPredict,initime)\n",
    "predict_new['predicted']=np.exp(predict_new['predicted'])\n",
    "fig = plt.figure(figsize=(10, 8))\n",
    "predict_new['predicted'].plot(color='r',style='--',label='Modeled',legend=True)\n",
    "df.plot(color='b',linestyle='',marker='o',label='Reported',legend=True)\n",
    "\n",
    "#plt.title(paralabel)\n",
    "#plt.ylabel(paralabel,fontsize=12)\n",
    "#plt.xlim('2018-01-01','2019-01-01')\n",
    "plt.yscale('log')\n",
    "\n",
    "#plt.yscale('log')\n",
    "plt.xlabel('Date',fontsize=12)\n",
    "plt.legend(loc='best',ncol=3)\n",
    "plt.show()    \n"
   ]
  },
  {
   "cell_type": "markdown",
   "metadata": {},
   "source": [
    "#### using the data at the three dates (2-4,2-5, and 2-6) to Predict increased determined cases in 2-7"
   ]
  },
  {
   "cell_type": "code",
   "execution_count": 44,
   "metadata": {},
   "outputs": [],
   "source": [
    "# convert an array of values into a dataset matrix\n",
    "def create_dataset_pr(dataset, look_back=1):\n",
    "    dataX = []\n",
    "    for i in range(len(dataset)-look_back+1): #-1):\n",
    "        a = dataset[i:(i+look_back), 0]\n",
    "        dataX.append(a)\n",
    "        print(a)\n",
    "    return np.array(dataX)\n"
   ]
  },
  {
   "cell_type": "code",
   "execution_count": 45,
   "metadata": {},
   "outputs": [],
   "source": [
    "def prediction (pred,model):\n",
    "    dataset1=np.log(pred['Inc_deter'].values)\n",
    "    dataset2=dataset1.reshape(-1,1)\n",
    "    sc1= MinMaxScaler(feature_range=(0,1))\n",
    "    dataset3 = sc.fit_transform(dataset2)\n",
    "    pred_X = create_dataset_pr(dataset3, look_back)\n",
    "    pred_X = np.reshape(pred_X, (pred_X.shape[0], 1, pred_X.shape[1]))\n",
    "    Pred_Y = model.predict(pred_X)\n",
    "    Pred_Y = sc.inverse_transform(Pred_Y)\n",
    "    return np.exp(Pred_Y)"
   ]
  },
  {
   "cell_type": "code",
   "execution_count": 47,
   "metadata": {},
   "outputs": [
    {
     "name": "stdout",
     "output_type": "stream",
     "text": [
      "[1.         0.         0.47777707]\n"
     ]
    }
   ],
   "source": [
    "file='predict0208.csv'\n",
    "pred=pd.read_csv(file)\n",
    "pr0208=prediction(pred,model)"
   ]
  },
  {
   "cell_type": "code",
   "execution_count": 48,
   "metadata": {},
   "outputs": [
    {
     "data": {
      "text/plain": [
       "array([[3425.987]], dtype=float32)"
      ]
     },
     "execution_count": 48,
     "metadata": {},
     "output_type": "execute_result"
    }
   ],
   "source": [
    "pr0208"
   ]
  },
  {
   "cell_type": "code",
   "execution_count": 49,
   "metadata": {},
   "outputs": [
    {
     "name": "stdout",
     "output_type": "stream",
     "text": [
      "[0.         0.91247061 1.        ]\n"
     ]
    },
    {
     "data": {
      "text/plain": [
       "array([[3359.4854]], dtype=float32)"
      ]
     },
     "execution_count": 49,
     "metadata": {},
     "output_type": "execute_result"
    }
   ],
   "source": [
    "file='predict0209.csv'\n",
    "pred=pd.read_csv(file)\n",
    "pr0209=prediction(pred,model)\n",
    "pr0209"
   ]
  },
  {
   "cell_type": "markdown",
   "metadata": {},
   "source": [
    "The following to check actual data for 0205."
   ]
  },
  {
   "cell_type": "code",
   "execution_count": null,
   "metadata": {},
   "outputs": [],
   "source": [
    "act0207="
   ]
  },
  {
   "cell_type": "code",
   "execution_count": null,
   "metadata": {},
   "outputs": [],
   "source": [
    "re=abs(pr0207[0][0]-act0207)/act0207*100"
   ]
  },
  {
   "cell_type": "code",
   "execution_count": null,
   "metadata": {},
   "outputs": [],
   "source": [
    "re"
   ]
  },
  {
   "cell_type": "markdown",
   "metadata": {},
   "source": [
    " using the data at the three dates (01-30,01-31,02-01) to predict 0202"
   ]
  },
  {
   "cell_type": "markdown",
   "metadata": {},
   "source": [
    "file='predict0202.csv'\n",
    "pred=pd.read_csv(file)\n",
    "pr0202=prediction(pred,model)"
   ]
  },
  {
   "cell_type": "markdown",
   "metadata": {},
   "source": [
    "pr0202"
   ]
  },
  {
   "cell_type": "code",
   "execution_count": null,
   "metadata": {},
   "outputs": [],
   "source": []
  }
 ],
 "metadata": {
  "kernelspec": {
   "display_name": "Python 3",
   "language": "python",
   "name": "python3"
  },
  "language_info": {
   "codemirror_mode": {
    "name": "ipython",
    "version": 3
   },
   "file_extension": ".py",
   "mimetype": "text/x-python",
   "name": "python",
   "nbconvert_exporter": "python",
   "pygments_lexer": "ipython3",
   "version": "3.7.3"
  }
 },
 "nbformat": 4,
 "nbformat_minor": 2
}
