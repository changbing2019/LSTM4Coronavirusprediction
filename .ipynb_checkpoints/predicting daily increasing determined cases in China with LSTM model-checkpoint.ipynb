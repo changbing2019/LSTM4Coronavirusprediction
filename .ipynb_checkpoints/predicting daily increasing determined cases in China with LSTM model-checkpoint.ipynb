{
 "cells": [
  {
   "cell_type": "code",
   "execution_count": 1,
   "metadata": {},
   "outputs": [],
   "source": [
    "import pandas as pd\n",
    "import numpy as np\n",
    "import matplotlib.pyplot as plt"
   ]
  },
  {
   "cell_type": "code",
   "execution_count": 2,
   "metadata": {},
   "outputs": [],
   "source": [
    "file=r'chinancoron2020.csv'\n",
    "coro=pd.read_csv(file)"
   ]
  },
  {
   "cell_type": "code",
   "execution_count": 3,
   "metadata": {},
   "outputs": [
    {
     "data": {
      "text/html": [
       "<div>\n",
       "<style scoped>\n",
       "    .dataframe tbody tr th:only-of-type {\n",
       "        vertical-align: middle;\n",
       "    }\n",
       "\n",
       "    .dataframe tbody tr th {\n",
       "        vertical-align: top;\n",
       "    }\n",
       "\n",
       "    .dataframe thead th {\n",
       "        text-align: right;\n",
       "    }\n",
       "</style>\n",
       "<table border=\"1\" class=\"dataframe\">\n",
       "  <thead>\n",
       "    <tr style=\"text-align: right;\">\n",
       "      <th></th>\n",
       "      <th>date</th>\n",
       "      <th>determined</th>\n",
       "      <th>Inc_deter</th>\n",
       "      <th>undetermined</th>\n",
       "      <th>inc_undeter</th>\n",
       "      <th>death</th>\n",
       "    </tr>\n",
       "  </thead>\n",
       "  <tbody>\n",
       "    <tr>\n",
       "      <th>0</th>\n",
       "      <td>1/20/2020</td>\n",
       "      <td>278.0</td>\n",
       "      <td>0.0</td>\n",
       "      <td>NaN</td>\n",
       "      <td>NaN</td>\n",
       "      <td>NaN</td>\n",
       "    </tr>\n",
       "    <tr>\n",
       "      <th>1</th>\n",
       "      <td>1/21/2020</td>\n",
       "      <td>326.0</td>\n",
       "      <td>48.0</td>\n",
       "      <td>NaN</td>\n",
       "      <td>NaN</td>\n",
       "      <td>NaN</td>\n",
       "    </tr>\n",
       "    <tr>\n",
       "      <th>2</th>\n",
       "      <td>1/22/2020</td>\n",
       "      <td>547.0</td>\n",
       "      <td>221.0</td>\n",
       "      <td>NaN</td>\n",
       "      <td>NaN</td>\n",
       "      <td>NaN</td>\n",
       "    </tr>\n",
       "    <tr>\n",
       "      <th>3</th>\n",
       "      <td>1/23/2020</td>\n",
       "      <td>639.0</td>\n",
       "      <td>92.0</td>\n",
       "      <td>NaN</td>\n",
       "      <td>NaN</td>\n",
       "      <td>NaN</td>\n",
       "    </tr>\n",
       "    <tr>\n",
       "      <th>4</th>\n",
       "      <td>1/24/2020</td>\n",
       "      <td>916.0</td>\n",
       "      <td>277.0</td>\n",
       "      <td>NaN</td>\n",
       "      <td>NaN</td>\n",
       "      <td>NaN</td>\n",
       "    </tr>\n",
       "  </tbody>\n",
       "</table>\n",
       "</div>"
      ],
      "text/plain": [
       "        date  determined  Inc_deter  undetermined  inc_undeter  death\n",
       "0  1/20/2020       278.0        0.0           NaN          NaN    NaN\n",
       "1  1/21/2020       326.0       48.0           NaN          NaN    NaN\n",
       "2  1/22/2020       547.0      221.0           NaN          NaN    NaN\n",
       "3  1/23/2020       639.0       92.0           NaN          NaN    NaN\n",
       "4  1/24/2020       916.0      277.0           NaN          NaN    NaN"
      ]
     },
     "execution_count": 3,
     "metadata": {},
     "output_type": "execute_result"
    }
   ],
   "source": [
    "coro.head()"
   ]
  },
  {
   "cell_type": "code",
   "execution_count": 4,
   "metadata": {},
   "outputs": [
    {
     "data": {
      "text/html": [
       "<div>\n",
       "<style scoped>\n",
       "    .dataframe tbody tr th:only-of-type {\n",
       "        vertical-align: middle;\n",
       "    }\n",
       "\n",
       "    .dataframe tbody tr th {\n",
       "        vertical-align: top;\n",
       "    }\n",
       "\n",
       "    .dataframe thead th {\n",
       "        text-align: right;\n",
       "    }\n",
       "</style>\n",
       "<table border=\"1\" class=\"dataframe\">\n",
       "  <thead>\n",
       "    <tr style=\"text-align: right;\">\n",
       "      <th></th>\n",
       "      <th>date</th>\n",
       "      <th>determined</th>\n",
       "      <th>Inc_deter</th>\n",
       "      <th>undetermined</th>\n",
       "      <th>inc_undeter</th>\n",
       "      <th>death</th>\n",
       "    </tr>\n",
       "  </thead>\n",
       "  <tbody>\n",
       "    <tr>\n",
       "      <th>8</th>\n",
       "      <td>1/28/2020</td>\n",
       "      <td>5397.0</td>\n",
       "      <td>862.0</td>\n",
       "      <td>9239.0</td>\n",
       "      <td>2266.0</td>\n",
       "      <td>132.0</td>\n",
       "    </tr>\n",
       "    <tr>\n",
       "      <th>9</th>\n",
       "      <td>1/29/2020</td>\n",
       "      <td>7735.0</td>\n",
       "      <td>2338.0</td>\n",
       "      <td>12167.0</td>\n",
       "      <td>2928.0</td>\n",
       "      <td>170.0</td>\n",
       "    </tr>\n",
       "    <tr>\n",
       "      <th>10</th>\n",
       "      <td>1/30/2020</td>\n",
       "      <td>9720.0</td>\n",
       "      <td>1985.0</td>\n",
       "      <td>15238.0</td>\n",
       "      <td>3071.0</td>\n",
       "      <td>213.0</td>\n",
       "    </tr>\n",
       "    <tr>\n",
       "      <th>11</th>\n",
       "      <td>1/31/2020</td>\n",
       "      <td>11821.0</td>\n",
       "      <td>2101.0</td>\n",
       "      <td>17988.0</td>\n",
       "      <td>2750.0</td>\n",
       "      <td>259.0</td>\n",
       "    </tr>\n",
       "    <tr>\n",
       "      <th>12</th>\n",
       "      <td>2/1/2020</td>\n",
       "      <td>NaN</td>\n",
       "      <td>NaN</td>\n",
       "      <td>NaN</td>\n",
       "      <td>NaN</td>\n",
       "      <td>NaN</td>\n",
       "    </tr>\n",
       "  </tbody>\n",
       "</table>\n",
       "</div>"
      ],
      "text/plain": [
       "         date  determined  Inc_deter  undetermined  inc_undeter  death\n",
       "8   1/28/2020      5397.0      862.0        9239.0       2266.0  132.0\n",
       "9   1/29/2020      7735.0     2338.0       12167.0       2928.0  170.0\n",
       "10  1/30/2020      9720.0     1985.0       15238.0       3071.0  213.0\n",
       "11  1/31/2020     11821.0     2101.0       17988.0       2750.0  259.0\n",
       "12   2/1/2020         NaN        NaN           NaN          NaN    NaN"
      ]
     },
     "execution_count": 4,
     "metadata": {},
     "output_type": "execute_result"
    }
   ],
   "source": [
    "coro.tail()"
   ]
  },
  {
   "cell_type": "code",
   "execution_count": 5,
   "metadata": {},
   "outputs": [],
   "source": [
    "coro['date'] =  pd.to_datetime(coro['date']) #, format='%d%b%Y:%H:%M:%S.%f')"
   ]
  },
  {
   "cell_type": "code",
   "execution_count": 6,
   "metadata": {},
   "outputs": [
    {
     "data": {
      "text/html": [
       "<div>\n",
       "<style scoped>\n",
       "    .dataframe tbody tr th:only-of-type {\n",
       "        vertical-align: middle;\n",
       "    }\n",
       "\n",
       "    .dataframe tbody tr th {\n",
       "        vertical-align: top;\n",
       "    }\n",
       "\n",
       "    .dataframe thead th {\n",
       "        text-align: right;\n",
       "    }\n",
       "</style>\n",
       "<table border=\"1\" class=\"dataframe\">\n",
       "  <thead>\n",
       "    <tr style=\"text-align: right;\">\n",
       "      <th></th>\n",
       "      <th>date</th>\n",
       "      <th>determined</th>\n",
       "      <th>Inc_deter</th>\n",
       "      <th>undetermined</th>\n",
       "      <th>inc_undeter</th>\n",
       "      <th>death</th>\n",
       "    </tr>\n",
       "  </thead>\n",
       "  <tbody>\n",
       "    <tr>\n",
       "      <th>8</th>\n",
       "      <td>2020-01-28</td>\n",
       "      <td>5397.0</td>\n",
       "      <td>862.0</td>\n",
       "      <td>9239.0</td>\n",
       "      <td>2266.0</td>\n",
       "      <td>132.0</td>\n",
       "    </tr>\n",
       "    <tr>\n",
       "      <th>9</th>\n",
       "      <td>2020-01-29</td>\n",
       "      <td>7735.0</td>\n",
       "      <td>2338.0</td>\n",
       "      <td>12167.0</td>\n",
       "      <td>2928.0</td>\n",
       "      <td>170.0</td>\n",
       "    </tr>\n",
       "    <tr>\n",
       "      <th>10</th>\n",
       "      <td>2020-01-30</td>\n",
       "      <td>9720.0</td>\n",
       "      <td>1985.0</td>\n",
       "      <td>15238.0</td>\n",
       "      <td>3071.0</td>\n",
       "      <td>213.0</td>\n",
       "    </tr>\n",
       "    <tr>\n",
       "      <th>11</th>\n",
       "      <td>2020-01-31</td>\n",
       "      <td>11821.0</td>\n",
       "      <td>2101.0</td>\n",
       "      <td>17988.0</td>\n",
       "      <td>2750.0</td>\n",
       "      <td>259.0</td>\n",
       "    </tr>\n",
       "    <tr>\n",
       "      <th>12</th>\n",
       "      <td>2020-02-01</td>\n",
       "      <td>NaN</td>\n",
       "      <td>NaN</td>\n",
       "      <td>NaN</td>\n",
       "      <td>NaN</td>\n",
       "      <td>NaN</td>\n",
       "    </tr>\n",
       "  </tbody>\n",
       "</table>\n",
       "</div>"
      ],
      "text/plain": [
       "         date  determined  Inc_deter  undetermined  inc_undeter  death\n",
       "8  2020-01-28      5397.0      862.0        9239.0       2266.0  132.0\n",
       "9  2020-01-29      7735.0     2338.0       12167.0       2928.0  170.0\n",
       "10 2020-01-30      9720.0     1985.0       15238.0       3071.0  213.0\n",
       "11 2020-01-31     11821.0     2101.0       17988.0       2750.0  259.0\n",
       "12 2020-02-01         NaN        NaN           NaN          NaN    NaN"
      ]
     },
     "execution_count": 6,
     "metadata": {},
     "output_type": "execute_result"
    }
   ],
   "source": [
    "coro.tail()"
   ]
  },
  {
   "cell_type": "code",
   "execution_count": 7,
   "metadata": {},
   "outputs": [],
   "source": [
    "coro.set_index('date', inplace=True)"
   ]
  },
  {
   "cell_type": "code",
   "execution_count": 8,
   "metadata": {},
   "outputs": [
    {
     "data": {
      "text/plain": [
       "DatetimeIndex(['2020-01-20', '2020-01-21', '2020-01-22', '2020-01-23',\n",
       "               '2020-01-24', '2020-01-25', '2020-01-26', '2020-01-27',\n",
       "               '2020-01-28', '2020-01-29', '2020-01-30', '2020-01-31',\n",
       "               '2020-02-01'],\n",
       "              dtype='datetime64[ns]', name='date', freq=None)"
      ]
     },
     "execution_count": 8,
     "metadata": {},
     "output_type": "execute_result"
    }
   ],
   "source": [
    "coro.index"
   ]
  },
  {
   "cell_type": "code",
   "execution_count": 9,
   "metadata": {},
   "outputs": [
    {
     "data": {
      "text/plain": [
       "<matplotlib.axes._subplots.AxesSubplot at 0x1bb384ab550>"
      ]
     },
     "execution_count": 9,
     "metadata": {},
     "output_type": "execute_result"
    },
    {
     "data": {
      "image/png": "[encoded data removed]",
      "text/plain": [
       "<Figure size 432x288 with 1 Axes>"
      ]
     },
     "metadata": {
      "needs_background": "light"
     },
     "output_type": "display_data"
    }
   ],
   "source": [
    "coro['Inc_deter'].plot(color='b',linestyle='--',marker='o')"
   ]
  },
  {
   "cell_type": "markdown",
   "metadata": {},
   "source": [
    "### Using the data of daily increasing determined cases in China from Jan 21 through Jan 30 to build the Deep learning model "
   ]
  },
  {
   "cell_type": "code",
   "execution_count": 10,
   "metadata": {},
   "outputs": [
    {
     "name": "stderr",
     "output_type": "stream",
     "text": [
      "Using TensorFlow backend.\n"
     ]
    }
   ],
   "source": [
    "from math import sqrt\n",
    "from numpy import concatenate\n",
    "from matplotlib import pyplot as plt\n",
    "from pandas import read_csv\n",
    "from pandas import DataFrame\n",
    "from pandas import concat\n",
    "from sklearn.preprocessing import MinMaxScaler\n",
    "from sklearn.preprocessing import LabelEncoder\n",
    "from sklearn.metrics import mean_squared_error\n",
    "from keras.models import Sequential\n",
    "from keras.layers import Dense\n",
    "from keras.layers import LSTM\n",
    "from keras.layers import Dropout\n",
    "import keras as K"
   ]
  },
  {
   "cell_type": "code",
   "execution_count": 11,
   "metadata": {},
   "outputs": [],
   "source": [
    "\n",
    "# convert an array of values into a dataset matrix\n",
    "def create_dataset(dataset, look_back=1):\n",
    "    dataX, dataY = [], []\n",
    "    for i in range(len(dataset)-look_back): #-1):\n",
    "        a = dataset[i:(i+look_back), 0]\n",
    "        dataX.append(a)\n",
    "        dataY.append(dataset[i + look_back, 0])\n",
    "    return np.array(dataX), np.array(dataY)\n"
   ]
  },
  {
   "cell_type": "code",
   "execution_count": 12,
   "metadata": {},
   "outputs": [],
   "source": [
    "df=coro['Inc_deter']['2020-01-21':'2020-01-31']"
   ]
  },
  {
   "cell_type": "code",
   "execution_count": 13,
   "metadata": {},
   "outputs": [],
   "source": [
    "df.columns=['cases']"
   ]
  },
  {
   "cell_type": "code",
   "execution_count": 14,
   "metadata": {},
   "outputs": [
    {
     "data": {
      "text/plain": [
       "<matplotlib.axes._subplots.AxesSubplot at 0x1bb3f486780>"
      ]
     },
     "execution_count": 14,
     "metadata": {},
     "output_type": "execute_result"
    },
    {
     "data": {
      "image/png": "[encoded data removed]",
      "text/plain": [
       "<Figure size 432x288 with 1 Axes>"
      ]
     },
     "metadata": {
      "needs_background": "light"
     },
     "output_type": "display_data"
    }
   ],
   "source": [
    "df.plot(kind='bar')"
   ]
  },
  {
   "cell_type": "code",
   "execution_count": 15,
   "metadata": {},
   "outputs": [],
   "source": [
    "look_back=3\n",
    "splitratio=1"
   ]
  },
  {
   "cell_type": "code",
   "execution_count": 16,
   "metadata": {},
   "outputs": [
    {
     "data": {
      "text/plain": [
       "date\n",
       "2020-01-27    1774.0\n",
       "2020-01-28     862.0\n",
       "2020-01-29    2338.0\n",
       "2020-01-30    1985.0\n",
       "2020-01-31    2101.0\n",
       "Name: Inc_deter, dtype: float64"
      ]
     },
     "execution_count": 16,
     "metadata": {},
     "output_type": "execute_result"
    }
   ],
   "source": [
    "df.tail()"
   ]
  },
  {
   "cell_type": "code",
   "execution_count": 17,
   "metadata": {},
   "outputs": [],
   "source": [
    "dataset1=np.log(df.values)"
   ]
  },
  {
   "cell_type": "code",
   "execution_count": 18,
   "metadata": {},
   "outputs": [],
   "source": [
    "#if look_back==1:\n",
    "dataset1=dataset1.reshape(-1,1)"
   ]
  },
  {
   "cell_type": "code",
   "execution_count": 19,
   "metadata": {},
   "outputs": [
    {
     "data": {
      "text/plain": [
       "array([[3.87120101],\n",
       "       [5.3981627 ],\n",
       "       [4.52178858],\n",
       "       [5.62401751],\n",
       "       [6.97447891],\n",
       "       [6.65415252],\n",
       "       [7.48099216],\n",
       "       [6.75925527],\n",
       "       [7.75705114],\n",
       "       [7.59337419],\n",
       "       [7.6501687 ]])"
      ]
     },
     "execution_count": 19,
     "metadata": {},
     "output_type": "execute_result"
    }
   ],
   "source": [
    "dataset1"
   ]
  },
  {
   "cell_type": "code",
   "execution_count": 20,
   "metadata": {},
   "outputs": [],
   "source": [
    "sc= MinMaxScaler(feature_range=(0,1))\n",
    "dataset = sc.fit_transform(dataset1)\n"
   ]
  },
  {
   "cell_type": "code",
   "execution_count": 21,
   "metadata": {},
   "outputs": [
    {
     "data": {
      "text/plain": [
       "array([[0.        ],\n",
       "       [0.39295434],\n",
       "       [0.16742477],\n",
       "       [0.45107671],\n",
       "       [0.79860978],\n",
       "       [0.71617572],\n",
       "       [0.92895789],\n",
       "       [0.74322327],\n",
       "       [1.        ],\n",
       "       [0.95787873],\n",
       "       [0.97249445]])"
      ]
     },
     "execution_count": 21,
     "metadata": {},
     "output_type": "execute_result"
    }
   ],
   "source": [
    "dataset"
   ]
  },
  {
   "cell_type": "code",
   "execution_count": 22,
   "metadata": {},
   "outputs": [
    {
     "name": "stdout",
     "output_type": "stream",
     "text": [
      "(11, 1) (11, 1)\n"
     ]
    }
   ],
   "source": [
    "# split into train and test sets\n",
    "train_size = int(len(dataset) * splitratio)\n",
    "test_size = train_size \n",
    "train, test = dataset[0:train_size,:], dataset[0:train_size,:]\n",
    "print(train.shape, test.shape)\n"
   ]
  },
  {
   "cell_type": "code",
   "execution_count": 23,
   "metadata": {},
   "outputs": [
    {
     "data": {
      "text/plain": [
       "11"
      ]
     },
     "execution_count": 23,
     "metadata": {},
     "output_type": "execute_result"
    }
   ],
   "source": [
    "train_size"
   ]
  },
  {
   "cell_type": "code",
   "execution_count": 24,
   "metadata": {},
   "outputs": [],
   "source": [
    "# reshape into X=t and Y=t+1\n",
    " #   look_back = 24\n",
    "trainX, trainY = create_dataset(train, look_back)\n",
    "testX, testY = create_dataset(test, look_back)\n",
    "all_X,all_Y=create_dataset(dataset,look_back)\n"
   ]
  },
  {
   "cell_type": "code",
   "execution_count": 25,
   "metadata": {},
   "outputs": [
    {
     "data": {
      "text/plain": [
       "array([[0.        , 0.39295434, 0.16742477],\n",
       "       [0.39295434, 0.16742477, 0.45107671],\n",
       "       [0.16742477, 0.45107671, 0.79860978],\n",
       "       [0.45107671, 0.79860978, 0.71617572],\n",
       "       [0.79860978, 0.71617572, 0.92895789],\n",
       "       [0.71617572, 0.92895789, 0.74322327],\n",
       "       [0.92895789, 0.74322327, 1.        ],\n",
       "       [0.74322327, 1.        , 0.95787873]])"
      ]
     },
     "execution_count": 25,
     "metadata": {},
     "output_type": "execute_result"
    }
   ],
   "source": [
    "trainX"
   ]
  },
  {
   "cell_type": "code",
   "execution_count": 26,
   "metadata": {},
   "outputs": [
    {
     "data": {
      "text/plain": [
       "array([0.45107671, 0.79860978, 0.71617572, 0.92895789, 0.74322327,\n",
       "       1.        , 0.95787873, 0.97249445])"
      ]
     },
     "execution_count": 26,
     "metadata": {},
     "output_type": "execute_result"
    }
   ],
   "source": [
    "trainY"
   ]
  },
  {
   "cell_type": "code",
   "execution_count": 27,
   "metadata": {},
   "outputs": [],
   "source": [
    "\n",
    "# reshape input to be [samples, time steps, features]\n",
    "trainX = np.reshape(trainX, (trainX.shape[0], 1, trainX.shape[1]))\n",
    "testX = np.reshape(testX, (testX.shape[0], 1, testX.shape[1]))\n",
    "all_X = np.reshape(all_X, (all_X.shape[0], 1, all_X.shape[1]))"
   ]
  },
  {
   "cell_type": "code",
   "execution_count": 28,
   "metadata": {},
   "outputs": [
    {
     "data": {
      "text/plain": [
       "array([[[0.        , 0.39295434, 0.16742477]],\n",
       "\n",
       "       [[0.39295434, 0.16742477, 0.45107671]],\n",
       "\n",
       "       [[0.16742477, 0.45107671, 0.79860978]],\n",
       "\n",
       "       [[0.45107671, 0.79860978, 0.71617572]],\n",
       "\n",
       "       [[0.79860978, 0.71617572, 0.92895789]],\n",
       "\n",
       "       [[0.71617572, 0.92895789, 0.74322327]],\n",
       "\n",
       "       [[0.92895789, 0.74322327, 1.        ]],\n",
       "\n",
       "       [[0.74322327, 1.        , 0.95787873]]])"
      ]
     },
     "execution_count": 28,
     "metadata": {},
     "output_type": "execute_result"
    }
   ],
   "source": [
    "trainX"
   ]
  },
  {
   "cell_type": "code",
   "execution_count": 29,
   "metadata": {},
   "outputs": [
    {
     "name": "stdout",
     "output_type": "stream",
     "text": [
      "(8, 1, 3) (8, 1, 3)\n"
     ]
    }
   ],
   "source": [
    "print(trainX.shape, testX.shape)"
   ]
  },
  {
   "cell_type": "code",
   "execution_count": 30,
   "metadata": {},
   "outputs": [
    {
     "name": "stderr",
     "output_type": "stream",
     "text": [
      "WARNING: Logging before flag parsing goes to stderr.\n",
      "W0202 11:25:46.796090 14132 deprecation_wrapper.py:119] From C:\\ProgramData\\Anaconda3\\lib\\site-packages\\keras\\backend\\tensorflow_backend.py:74: The name tf.get_default_graph is deprecated. Please use tf.compat.v1.get_default_graph instead.\n",
      "\n",
      "W0202 11:25:47.903357 14132 deprecation_wrapper.py:119] From C:\\ProgramData\\Anaconda3\\lib\\site-packages\\keras\\backend\\tensorflow_backend.py:517: The name tf.placeholder is deprecated. Please use tf.compat.v1.placeholder instead.\n",
      "\n",
      "W0202 11:25:48.163172 14132 deprecation_wrapper.py:119] From C:\\ProgramData\\Anaconda3\\lib\\site-packages\\keras\\backend\\tensorflow_backend.py:4138: The name tf.random_uniform is deprecated. Please use tf.random.uniform instead.\n",
      "\n",
      "W0202 11:25:55.696296 14132 deprecation_wrapper.py:119] From C:\\ProgramData\\Anaconda3\\lib\\site-packages\\keras\\backend\\tensorflow_backend.py:133: The name tf.placeholder_with_default is deprecated. Please use tf.compat.v1.placeholder_with_default instead.\n",
      "\n",
      "W0202 11:25:55.973479 14132 deprecation.py:506] From C:\\ProgramData\\Anaconda3\\lib\\site-packages\\keras\\backend\\tensorflow_backend.py:3445: calling dropout (from tensorflow.python.ops.nn_ops) with keep_prob is deprecated and will be removed in a future version.\n",
      "Instructions for updating:\n",
      "Please use `rate` instead of `keep_prob`. Rate should be set to `rate = 1 - keep_prob`.\n",
      "W0202 11:25:58.673236 14132 deprecation_wrapper.py:119] From C:\\ProgramData\\Anaconda3\\lib\\site-packages\\keras\\optimizers.py:790: The name tf.train.Optimizer is deprecated. Please use tf.compat.v1.train.Optimizer instead.\n",
      "\n"
     ]
    },
    {
     "name": "stdout",
     "output_type": "stream",
     "text": [
      "_________________________________________________________________\n",
      "Layer (type)                 Output Shape              Param #   \n",
      "=================================================================\n",
      "lstm_1 (LSTM)                (None, 1, 50)             10800     \n",
      "_________________________________________________________________\n",
      "dropout_1 (Dropout)          (None, 1, 50)             0         \n",
      "_________________________________________________________________\n",
      "lstm_2 (LSTM)                (None, 1, 130)            94120     \n",
      "_________________________________________________________________\n",
      "dropout_2 (Dropout)          (None, 1, 130)            0         \n",
      "_________________________________________________________________\n",
      "lstm_3 (LSTM)                (None, 30)                19320     \n",
      "_________________________________________________________________\n",
      "dense_1 (Dense)              (None, 1)                 31        \n",
      "=================================================================\n",
      "Total params: 124,271\n",
      "Trainable params: 124,271\n",
      "Non-trainable params: 0\n",
      "_________________________________________________________________\n",
      "None\n"
     ]
    }
   ],
   "source": [
    "# create and fit the LSTM network\n",
    "model = Sequential()\n",
    "model.add(LSTM(units=50, return_sequences=True,input_shape=(trainX.shape[1], trainX.shape[2])))\n",
    "model.add(Dropout(0.2))\n",
    "model.add(LSTM(units=130, return_sequences=True))\n",
    "model.add(Dropout(0.2))\n",
    "model.add(LSTM(units=30))\n",
    "#model.add(Dropout(0.2))\n",
    "model.add(Dense(1))\n",
    "model.compile(loss='mean_squared_error', optimizer='adam')\n",
    "print(model.summary())"
   ]
  },
  {
   "cell_type": "code",
   "execution_count": 31,
   "metadata": {},
   "outputs": [
    {
     "name": "stderr",
     "output_type": "stream",
     "text": [
      "W0202 11:26:01.344063 14132 deprecation.py:323] From C:\\Users\\Changbing Yang\\AppData\\Roaming\\Python\\Python37\\site-packages\\tensorflow\\python\\ops\\math_grad.py:1250: add_dispatch_support.<locals>.wrapper (from tensorflow.python.ops.array_ops) is deprecated and will be removed in a future version.\n",
      "Instructions for updating:\n",
      "Use tf.where in 2.0, which has the same broadcast rule as np.where\n",
      "W0202 11:26:03.211591 14132 deprecation_wrapper.py:119] From C:\\ProgramData\\Anaconda3\\lib\\site-packages\\keras\\backend\\tensorflow_backend.py:986: The name tf.assign_add is deprecated. Please use tf.compat.v1.assign_add instead.\n",
      "\n"
     ]
    },
    {
     "name": "stdout",
     "output_type": "stream",
     "text": [
      "Train on 7 samples, validate on 1 samples\n",
      "Epoch 1/200\n",
      " - 5s - loss: 0.6595 - val_loss: 0.9071\n",
      "Epoch 2/200\n",
      " - 0s - loss: 0.6327 - val_loss: 0.8639\n",
      "Epoch 3/200\n",
      " - 0s - loss: 0.5994 - val_loss: 0.8143\n",
      "Epoch 4/200\n",
      " - 0s - loss: 0.5624 - val_loss: 0.7547\n",
      "Epoch 5/200\n",
      " - 0s - loss: 0.5181 - val_loss: 0.6817\n",
      "Epoch 6/200\n",
      " - 0s - loss: 0.4646 - val_loss: 0.5916\n",
      "Epoch 7/200\n",
      " - 0s - loss: 0.3871 - val_loss: 0.4801\n",
      "Epoch 8/200\n",
      " - 0s - loss: 0.3078 - val_loss: 0.3471\n",
      "Epoch 9/200\n",
      " - 0s - loss: 0.2150 - val_loss: 0.2059\n",
      "Epoch 10/200\n",
      " - 0s - loss: 0.1239 - val_loss: 0.0771\n",
      "Epoch 11/200\n",
      " - 0s - loss: 0.0483 - val_loss: 0.0053\n",
      "Epoch 12/200\n",
      " - 0s - loss: 0.0189 - val_loss: 0.0201\n",
      "Epoch 13/200\n",
      " - 0s - loss: 0.0202 - val_loss: 0.0594\n",
      "Epoch 14/200\n",
      " - 0s - loss: 0.0543 - val_loss: 0.0482\n",
      "Epoch 15/200\n",
      " - 0s - loss: 0.0440 - val_loss: 0.0130\n",
      "Epoch 16/200\n",
      " - 0s - loss: 0.0216 - val_loss: 4.0676e-04\n",
      "Epoch 17/200\n",
      " - 0s - loss: 0.0160 - val_loss: 5.2458e-04\n",
      "Epoch 18/200\n",
      " - 0s - loss: 0.0280 - val_loss: 4.3391e-04\n",
      "Epoch 19/200\n",
      " - 0s - loss: 0.0078 - val_loss: 2.2143e-04\n",
      "Epoch 20/200\n",
      " - 0s - loss: 0.0100 - val_loss: 1.8011e-05\n",
      "Epoch 21/200\n",
      " - 0s - loss: 0.0121 - val_loss: 4.5368e-04\n",
      "Epoch 22/200\n",
      " - 0s - loss: 0.0257 - val_loss: 0.0013\n",
      "Epoch 23/200\n",
      " - 0s - loss: 0.0107 - val_loss: 9.6220e-05\n",
      "Epoch 24/200\n",
      " - 0s - loss: 0.0167 - val_loss: 5.9134e-04\n",
      "Epoch 25/200\n",
      " - 0s - loss: 0.0135 - val_loss: 0.0011\n",
      "Epoch 26/200\n",
      " - 0s - loss: 0.0215 - val_loss: 3.5152e-05\n",
      "Epoch 27/200\n",
      " - 0s - loss: 0.0092 - val_loss: 0.0014\n",
      "Epoch 28/200\n",
      " - 0s - loss: 0.0133 - val_loss: 0.0034\n",
      "Epoch 29/200\n",
      " - 0s - loss: 0.0119 - val_loss: 0.0044\n",
      "Epoch 30/200\n",
      " - 0s - loss: 0.0153 - val_loss: 0.0025\n",
      "Epoch 31/200\n",
      " - 0s - loss: 0.0238 - val_loss: 4.6276e-04\n",
      "Epoch 32/200\n",
      " - 0s - loss: 0.0134 - val_loss: 4.8387e-05\n",
      "Epoch 33/200\n",
      " - 0s - loss: 0.0197 - val_loss: 3.0413e-04\n",
      "Epoch 34/200\n",
      " - 0s - loss: 0.0160 - val_loss: 3.1096e-05\n",
      "Epoch 35/200\n",
      " - 0s - loss: 0.0155 - val_loss: 4.4730e-04\n",
      "Epoch 36/200\n",
      " - 0s - loss: 0.0120 - val_loss: 5.4121e-04\n",
      "Epoch 37/200\n",
      " - 0s - loss: 0.0175 - val_loss: 5.0969e-04\n",
      "Epoch 38/200\n",
      " - 0s - loss: 0.0125 - val_loss: 5.0295e-04\n",
      "Epoch 39/200\n",
      " - 0s - loss: 0.0283 - val_loss: 6.2123e-05\n",
      "Epoch 40/200\n",
      " - 0s - loss: 0.0122 - val_loss: 0.0018\n",
      "Epoch 41/200\n",
      " - 0s - loss: 0.0133 - val_loss: 0.0018\n",
      "Epoch 42/200\n",
      " - 0s - loss: 0.0111 - val_loss: 5.6738e-04\n",
      "Epoch 43/200\n",
      " - 0s - loss: 0.0111 - val_loss: 6.8339e-05\n",
      "Epoch 44/200\n",
      " - 0s - loss: 0.0127 - val_loss: 0.0013\n",
      "Epoch 45/200\n",
      " - 0s - loss: 0.0191 - val_loss: 0.0019\n",
      "Epoch 46/200\n",
      " - 0s - loss: 0.0230 - val_loss: 8.8529e-04\n",
      "Epoch 47/200\n",
      " - 0s - loss: 0.0276 - val_loss: 1.5835e-04\n",
      "Epoch 48/200\n",
      " - 0s - loss: 0.0152 - val_loss: 0.0016\n",
      "Epoch 49/200\n",
      " - 0s - loss: 0.0144 - val_loss: 0.0016\n",
      "Epoch 50/200\n",
      " - 0s - loss: 0.0118 - val_loss: 7.5965e-04\n",
      "Epoch 51/200\n",
      " - 0s - loss: 0.0154 - val_loss: 1.9846e-05\n",
      "Epoch 52/200\n",
      " - 0s - loss: 0.0088 - val_loss: 8.0479e-06\n",
      "Epoch 53/200\n",
      " - 0s - loss: 0.0204 - val_loss: 1.0190e-05\n",
      "Epoch 54/200\n",
      " - 0s - loss: 0.0152 - val_loss: 1.9716e-05\n",
      "Epoch 55/200\n",
      " - 0s - loss: 0.0154 - val_loss: 1.6293e-06\n",
      "Epoch 56/200\n",
      " - 0s - loss: 0.0175 - val_loss: 8.2134e-06\n",
      "Epoch 57/200\n",
      " - 0s - loss: 0.0087 - val_loss: 1.4090e-04\n",
      "Epoch 58/200\n",
      " - 0s - loss: 0.0099 - val_loss: 4.7407e-04\n",
      "Epoch 59/200\n",
      " - 0s - loss: 0.0121 - val_loss: 8.6029e-04\n",
      "Epoch 60/200\n",
      " - 0s - loss: 0.0225 - val_loss: 1.2592e-04\n",
      "Epoch 61/200\n",
      " - 0s - loss: 0.0066 - val_loss: 6.0137e-05\n",
      "Epoch 62/200\n",
      " - 0s - loss: 0.0107 - val_loss: 2.9221e-05\n",
      "Epoch 63/200\n",
      " - 0s - loss: 0.0200 - val_loss: 1.8384e-04\n",
      "Epoch 64/200\n",
      " - 0s - loss: 0.0158 - val_loss: 1.4686e-05\n",
      "Epoch 65/200\n",
      " - 0s - loss: 0.0236 - val_loss: 1.0486e-04\n",
      "Epoch 66/200\n",
      " - 0s - loss: 0.0167 - val_loss: 4.1790e-04\n",
      "Epoch 67/200\n",
      " - 0s - loss: 0.0301 - val_loss: 0.0011\n",
      "Epoch 68/200\n",
      " - 0s - loss: 0.0152 - val_loss: 6.8892e-04\n",
      "Epoch 69/200\n",
      " - 0s - loss: 0.0121 - val_loss: 0.0011\n",
      "Epoch 70/200\n",
      " - 0s - loss: 0.0183 - val_loss: 1.1395e-05\n",
      "Epoch 71/200\n",
      " - 0s - loss: 0.0162 - val_loss: 9.2375e-04\n",
      "Epoch 72/200\n",
      " - 0s - loss: 0.0120 - val_loss: 0.0036\n",
      "Epoch 73/200\n",
      " - 0s - loss: 0.0104 - val_loss: 0.0065\n",
      "Epoch 74/200\n",
      " - 0s - loss: 0.0137 - val_loss: 0.0071\n",
      "Epoch 75/200\n",
      " - 0s - loss: 0.0270 - val_loss: 0.0026\n",
      "Epoch 76/200\n",
      " - 0s - loss: 0.0152 - val_loss: 7.7098e-05\n",
      "Epoch 77/200\n",
      " - 0s - loss: 0.0141 - val_loss: 3.6283e-04\n",
      "Epoch 78/200\n",
      " - 0s - loss: 0.0164 - val_loss: 0.0012\n",
      "Epoch 79/200\n",
      " - 0s - loss: 0.0161 - val_loss: 0.0023\n",
      "Epoch 80/200\n",
      " - 0s - loss: 0.0147 - val_loss: 0.0016\n",
      "Epoch 81/200\n",
      " - 0s - loss: 0.0158 - val_loss: 0.0015\n",
      "Epoch 82/200\n",
      " - 0s - loss: 0.0122 - val_loss: 3.7792e-04\n",
      "Epoch 83/200\n",
      " - 0s - loss: 0.0249 - val_loss: 3.3368e-04\n",
      "Epoch 84/200\n",
      " - 0s - loss: 0.0157 - val_loss: 1.6773e-04\n",
      "Epoch 85/200\n",
      " - 0s - loss: 0.0207 - val_loss: 3.9899e-06\n",
      "Epoch 86/200\n",
      " - 0s - loss: 0.0132 - val_loss: 5.8528e-05\n",
      "Epoch 87/200\n",
      " - 0s - loss: 0.0105 - val_loss: 8.8005e-05\n",
      "Epoch 88/200\n",
      " - 0s - loss: 0.0097 - val_loss: 8.1888e-07\n",
      "Epoch 89/200\n",
      " - 0s - loss: 0.0095 - val_loss: 8.5311e-06\n",
      "Epoch 90/200\n",
      " - 0s - loss: 0.0152 - val_loss: 3.6854e-05\n",
      "Epoch 91/200\n",
      " - 0s - loss: 0.0083 - val_loss: 9.7624e-05\n",
      "Epoch 92/200\n",
      " - 0s - loss: 0.0148 - val_loss: 4.7741e-05\n",
      "Epoch 93/200\n",
      " - 0s - loss: 0.0224 - val_loss: 1.7683e-04\n",
      "Epoch 94/200\n",
      " - 0s - loss: 0.0197 - val_loss: 0.0012\n",
      "Epoch 95/200\n",
      " - 0s - loss: 0.0190 - val_loss: 0.0018\n",
      "Epoch 96/200\n",
      " - 0s - loss: 0.0154 - val_loss: 0.0020\n",
      "Epoch 97/200\n",
      " - 0s - loss: 0.0118 - val_loss: 0.0011\n",
      "Epoch 98/200\n",
      " - 0s - loss: 0.0197 - val_loss: 8.7178e-04\n",
      "Epoch 99/200\n",
      " - 0s - loss: 0.0157 - val_loss: 5.0167e-04\n",
      "Epoch 100/200\n",
      " - 0s - loss: 0.0084 - val_loss: 2.6397e-04\n",
      "Epoch 101/200\n",
      " - 0s - loss: 0.0170 - val_loss: 1.8310e-04\n",
      "Epoch 102/200\n",
      " - 0s - loss: 0.0081 - val_loss: 4.6087e-04\n",
      "Epoch 103/200\n",
      " - 0s - loss: 0.0139 - val_loss: 3.1672e-04\n",
      "Epoch 104/200\n",
      " - 0s - loss: 0.0178 - val_loss: 8.1033e-04\n",
      "Epoch 105/200\n",
      " - 0s - loss: 0.0136 - val_loss: 0.0026\n",
      "Epoch 106/200\n",
      " - 0s - loss: 0.0211 - val_loss: 0.0029\n",
      "Epoch 107/200\n",
      " - 0s - loss: 0.0108 - val_loss: 9.8375e-04\n",
      "Epoch 108/200\n",
      " - 0s - loss: 0.0150 - val_loss: 7.4377e-05\n",
      "Epoch 109/200\n",
      " - 0s - loss: 0.0160 - val_loss: 2.9623e-05\n",
      "Epoch 110/200\n",
      " - 0s - loss: 0.0210 - val_loss: 8.5134e-07\n",
      "Epoch 111/200\n",
      " - 0s - loss: 0.0149 - val_loss: 1.8630e-05\n",
      "Epoch 112/200\n",
      " - 0s - loss: 0.0237 - val_loss: 5.2040e-04\n",
      "Epoch 113/200\n",
      " - 0s - loss: 0.0148 - val_loss: 0.0012\n",
      "Epoch 114/200\n",
      " - 0s - loss: 0.0153 - val_loss: 5.1843e-04\n",
      "Epoch 115/200\n",
      " - 0s - loss: 0.0158 - val_loss: 1.8127e-04\n",
      "Epoch 116/200\n",
      " - 0s - loss: 0.0050 - val_loss: 1.1246e-05\n",
      "Epoch 117/200\n",
      " - 0s - loss: 0.0137 - val_loss: 3.5819e-04\n",
      "Epoch 118/200\n",
      " - 0s - loss: 0.0161 - val_loss: 2.0701e-04\n",
      "Epoch 119/200\n",
      " - 0s - loss: 0.0134 - val_loss: 1.9596e-05\n",
      "Epoch 120/200\n",
      " - 0s - loss: 0.0189 - val_loss: 7.5833e-04\n",
      "Epoch 121/200\n",
      " - 0s - loss: 0.0153 - val_loss: 0.0012\n",
      "Epoch 122/200\n",
      " - 0s - loss: 0.0159 - val_loss: 3.4282e-04\n",
      "Epoch 123/200\n",
      " - 0s - loss: 0.0144 - val_loss: 3.9033e-04\n",
      "Epoch 124/200\n",
      " - 0s - loss: 0.0125 - val_loss: 3.1266e-05\n",
      "Epoch 125/200\n",
      " - 0s - loss: 0.0114 - val_loss: 2.3672e-04\n",
      "Epoch 126/200\n",
      " - 0s - loss: 0.0143 - val_loss: 3.9311e-06\n",
      "Epoch 127/200\n",
      " - 0s - loss: 0.0186 - val_loss: 3.1412e-06\n",
      "Epoch 128/200\n",
      " - 0s - loss: 0.0134 - val_loss: 6.3413e-05\n",
      "Epoch 129/200\n",
      " - 0s - loss: 0.0129 - val_loss: 1.5307e-05\n",
      "Epoch 130/200\n",
      " - 0s - loss: 0.0064 - val_loss: 5.9481e-05\n",
      "Epoch 131/200\n",
      " - 0s - loss: 0.0162 - val_loss: 1.4715e-05\n",
      "Epoch 132/200\n",
      " - 0s - loss: 0.0086 - val_loss: 1.1877e-04\n",
      "Epoch 133/200\n",
      " - 0s - loss: 0.0144 - val_loss: 2.2578e-04\n",
      "Epoch 134/200\n",
      " - 0s - loss: 0.0080 - val_loss: 6.4170e-05\n",
      "Epoch 135/200\n",
      " - 0s - loss: 0.0114 - val_loss: 1.3286e-04\n",
      "Epoch 136/200\n",
      " - 0s - loss: 0.0163 - val_loss: 4.4499e-04\n",
      "Epoch 137/200\n",
      " - 0s - loss: 0.0159 - val_loss: 2.5775e-06\n",
      "Epoch 138/200\n",
      " - 0s - loss: 0.0112 - val_loss: 0.0013\n",
      "Epoch 139/200\n",
      " - 0s - loss: 0.0119 - val_loss: 9.6178e-04\n",
      "Epoch 140/200\n",
      " - 0s - loss: 0.0130 - val_loss: 5.5874e-04\n",
      "Epoch 141/200\n",
      " - 0s - loss: 0.0108 - val_loss: 8.1810e-04\n",
      "Epoch 142/200\n",
      " - 0s - loss: 0.0157 - val_loss: 5.0065e-04\n",
      "Epoch 143/200\n",
      " - 0s - loss: 0.0085 - val_loss: 0.0011\n",
      "Epoch 144/200\n",
      " - 0s - loss: 0.0131 - val_loss: 3.9985e-04\n",
      "Epoch 145/200\n",
      " - 0s - loss: 0.0084 - val_loss: 4.9241e-05\n",
      "Epoch 146/200\n",
      " - 0s - loss: 0.0119 - val_loss: 1.6207e-04\n"
     ]
    },
    {
     "name": "stdout",
     "output_type": "stream",
     "text": [
      "Epoch 147/200\n",
      " - 0s - loss: 0.0155 - val_loss: 1.0569e-05\n",
      "Epoch 148/200\n",
      " - 0s - loss: 0.0137 - val_loss: 1.2961e-04\n",
      "Epoch 149/200\n",
      " - 0s - loss: 0.0168 - val_loss: 6.6619e-04\n",
      "Epoch 150/200\n",
      " - 0s - loss: 0.0108 - val_loss: 0.0015\n",
      "Epoch 151/200\n",
      " - 0s - loss: 0.0113 - val_loss: 8.4672e-04\n",
      "Epoch 152/200\n",
      " - 0s - loss: 0.0115 - val_loss: 0.0016\n",
      "Epoch 153/200\n",
      " - 0s - loss: 0.0215 - val_loss: 7.0430e-04\n",
      "Epoch 154/200\n",
      " - 0s - loss: 0.0092 - val_loss: 1.2225e-04\n",
      "Epoch 155/200\n",
      " - 0s - loss: 0.0201 - val_loss: 4.4388e-05\n",
      "Epoch 156/200\n",
      " - 0s - loss: 0.0152 - val_loss: 2.7637e-07\n",
      "Epoch 157/200\n",
      " - 0s - loss: 0.0159 - val_loss: 2.8904e-04\n",
      "Epoch 158/200\n",
      " - 0s - loss: 0.0140 - val_loss: 1.5691e-04\n",
      "Epoch 159/200\n",
      " - 0s - loss: 0.0232 - val_loss: 6.6066e-05\n",
      "Epoch 160/200\n",
      " - 0s - loss: 0.0112 - val_loss: 1.1384e-04\n",
      "Epoch 161/200\n",
      " - 0s - loss: 0.0100 - val_loss: 0.0010\n",
      "Epoch 162/200\n",
      " - 0s - loss: 0.0153 - val_loss: 0.0017\n",
      "Epoch 163/200\n",
      " - 0s - loss: 0.0137 - val_loss: 5.9941e-04\n",
      "Epoch 164/200\n",
      " - 0s - loss: 0.0127 - val_loss: 5.9042e-05\n",
      "Epoch 165/200\n",
      " - 0s - loss: 0.0122 - val_loss: 1.3436e-05\n",
      "Epoch 166/200\n",
      " - 0s - loss: 0.0228 - val_loss: 2.2263e-04\n",
      "Epoch 167/200\n",
      " - 0s - loss: 0.0200 - val_loss: 3.0113e-05\n",
      "Epoch 168/200\n",
      " - 0s - loss: 0.0160 - val_loss: 0.0010\n",
      "Epoch 169/200\n",
      " - 0s - loss: 0.0157 - val_loss: 0.0020\n",
      "Epoch 170/200\n",
      " - 0s - loss: 0.0166 - val_loss: 0.0013\n",
      "Epoch 171/200\n",
      " - 0s - loss: 0.0132 - val_loss: 4.9148e-04\n",
      "Epoch 172/200\n",
      " - 0s - loss: 0.0181 - val_loss: 4.6365e-04\n",
      "Epoch 173/200\n",
      " - 0s - loss: 0.0156 - val_loss: 1.7765e-04\n",
      "Epoch 174/200\n",
      " - 0s - loss: 0.0153 - val_loss: 5.1374e-05\n",
      "Epoch 175/200\n",
      " - 0s - loss: 0.0129 - val_loss: 3.9464e-06\n",
      "Epoch 176/200\n",
      " - 0s - loss: 0.0124 - val_loss: 1.0019e-04\n",
      "Epoch 177/200\n",
      " - 0s - loss: 0.0112 - val_loss: 6.6736e-05\n",
      "Epoch 178/200\n",
      " - 0s - loss: 0.0190 - val_loss: 2.5800e-05\n",
      "Epoch 179/200\n",
      " - 0s - loss: 0.0165 - val_loss: 4.2776e-04\n",
      "Epoch 180/200\n",
      " - 0s - loss: 0.0179 - val_loss: 0.0014\n",
      "Epoch 181/200\n",
      " - 0s - loss: 0.0123 - val_loss: 6.1888e-04\n",
      "Epoch 182/200\n",
      " - 0s - loss: 0.0151 - val_loss: 1.6159e-04\n",
      "Epoch 183/200\n",
      " - 0s - loss: 0.0070 - val_loss: 1.4049e-04\n",
      "Epoch 184/200\n",
      " - 0s - loss: 0.0142 - val_loss: 4.1863e-04\n",
      "Epoch 185/200\n",
      " - 0s - loss: 0.0216 - val_loss: 1.2163e-04\n",
      "Epoch 186/200\n",
      " - 0s - loss: 0.0083 - val_loss: 1.3271e-04\n",
      "Epoch 187/200\n",
      " - 0s - loss: 0.0214 - val_loss: 1.4327e-05\n",
      "Epoch 188/200\n",
      " - 0s - loss: 0.0176 - val_loss: 0.0020\n",
      "Epoch 189/200\n",
      " - 0s - loss: 0.0181 - val_loss: 0.0043\n",
      "Epoch 190/200\n",
      " - 0s - loss: 0.0175 - val_loss: 0.0037\n",
      "Epoch 191/200\n",
      " - 0s - loss: 0.0144 - val_loss: 0.0012\n",
      "Epoch 192/200\n",
      " - 0s - loss: 0.0123 - val_loss: 9.3414e-05\n",
      "Epoch 193/200\n",
      " - 0s - loss: 0.0084 - val_loss: 3.2589e-04\n",
      "Epoch 194/200\n",
      " - 0s - loss: 0.0153 - val_loss: 6.6616e-04\n",
      "Epoch 195/200\n",
      " - 0s - loss: 0.0145 - val_loss: 3.4156e-04\n",
      "Epoch 196/200\n",
      " - 0s - loss: 0.0118 - val_loss: 4.4338e-04\n",
      "Epoch 197/200\n",
      " - 0s - loss: 0.0195 - val_loss: 7.9614e-04\n",
      "Epoch 198/200\n",
      " - 0s - loss: 0.0129 - val_loss: 0.0015\n",
      "Epoch 199/200\n",
      " - 0s - loss: 0.0193 - val_loss: 0.0013\n",
      "Epoch 200/200\n",
      " - 0s - loss: 0.0153 - val_loss: 3.5903e-05\n"
     ]
    }
   ],
   "source": [
    "history=model.fit(trainX, trainY, epochs=200, batch_size=2, validation_split=0.1,verbose=2)  #validation_split=0.05,"
   ]
  },
  {
   "cell_type": "code",
   "execution_count": 32,
   "metadata": {},
   "outputs": [
    {
     "data": {
      "image/png": "[encoded data removed]",
      "text/plain": [
       "<Figure size 432x288 with 1 Axes>"
      ]
     },
     "metadata": {
      "needs_background": "light"
     },
     "output_type": "display_data"
    }
   ],
   "source": [
    "# plot history\n",
    "plt.plot(history.history['loss'], label='train')\n",
    "plt.plot(history.history['val_loss'], label='cros_validation')\n",
    "plt.legend()\n",
    "plt.show()"
   ]
  },
  {
   "cell_type": "code",
   "execution_count": 33,
   "metadata": {},
   "outputs": [],
   "source": [
    "# make predictions\n",
    "trainPredict = model.predict(trainX)\n",
    "testPredict = model.predict(testX)\n"
   ]
  },
  {
   "cell_type": "code",
   "execution_count": 34,
   "metadata": {},
   "outputs": [
    {
     "data": {
      "text/plain": [
       "(8, 1)"
      ]
     },
     "execution_count": 34,
     "metadata": {},
     "output_type": "execute_result"
    }
   ],
   "source": [
    "trainPredict.shape"
   ]
  },
  {
   "cell_type": "code",
   "execution_count": 35,
   "metadata": {},
   "outputs": [
    {
     "data": {
      "text/plain": [
       "(8,)"
      ]
     },
     "execution_count": 35,
     "metadata": {},
     "output_type": "execute_result"
    }
   ],
   "source": [
    "trainY.shape"
   ]
  },
  {
   "cell_type": "code",
   "execution_count": 36,
   "metadata": {},
   "outputs": [],
   "source": [
    "y1=trainPredict.reshape(trainPredict.shape[0])"
   ]
  },
  {
   "cell_type": "code",
   "execution_count": 37,
   "metadata": {},
   "outputs": [
    {
     "data": {
      "text/plain": [
       "[<matplotlib.lines.Line2D at 0x1bb49ea1a58>]"
      ]
     },
     "execution_count": 37,
     "metadata": {},
     "output_type": "execute_result"
    },
    {
     "data": {
      "image/png": "[encoded data removed]",
      "text/plain": [
       "<Figure size 432x288 with 1 Axes>"
      ]
     },
     "metadata": {
      "needs_background": "light"
     },
     "output_type": "display_data"
    }
   ],
   "source": [
    "plt.plot(y1,trainY,'ro')"
   ]
  },
  {
   "cell_type": "code",
   "execution_count": 38,
   "metadata": {},
   "outputs": [],
   "source": [
    "# invert predictions\n",
    "#trainPred = sc.inverse_transform(trainPredict)"
   ]
  },
  {
   "cell_type": "code",
   "execution_count": 39,
   "metadata": {},
   "outputs": [
    {
     "name": "stdout",
     "output_type": "stream",
     "text": [
      "Train Score: 0.39 RMSE\n",
      "Test Score: 0.39 RMSE\n"
     ]
    }
   ],
   "source": [
    "# invert predictions\n",
    "trainPredict = sc.inverse_transform(trainPredict)\n",
    "trainY = sc.inverse_transform([trainY])\n",
    "testPredict = sc.inverse_transform(testPredict)\n",
    "testY = sc.inverse_transform([testY])\n",
    "# calculate root mean squared error\n",
    "trainScore = sqrt(mean_squared_error(trainY[0], trainPredict[:,0]))\n",
    "print('Train Score: %.2f RMSE' % (trainScore))\n",
    "testScore = sqrt(mean_squared_error(testY[0], testPredict[:,0]))\n",
    "print('Test Score: %.2f RMSE' % (testScore))"
   ]
  },
  {
   "cell_type": "code",
   "execution_count": 55,
   "metadata": {},
   "outputs": [
    {
     "data": {
      "image/png": "[encoded data removed]",
      "text/plain": [
       "<Figure size 720x576 with 1 Axes>"
      ]
     },
     "metadata": {
      "needs_background": "light"
     },
     "output_type": "display_data"
    }
   ],
   "source": [
    "# plot baseline and predictions\n",
    "fig = plt.figure(figsize=(10, 8))\n",
    "plt.plot(trainY[0,:],trainPredict[:,0],'bo',label='Train')\n",
    "#plt.plot(testY[0,:],testPredict[:,0],'y^',label='Test')\n",
    "upperb=np.amax([np.amax(trainPredict[:,0]),np.amax(testPredict[:,0])])\n",
    "lowera=np.amin([np.amin(trainPredict[:,0]),np.amin(testPredict[:,0])])\n",
    "plt.plot([0,10],[0,10],'r-',label='1:1 line')\n",
    "#plt.plot(trainPredictPlot)\n",
    "#plt.plot(testPredictPlot)\n",
    "plt.ylim(5,9)\n",
    "plt.xlim(5,9)\n",
    "\n",
    "plt.ylabel('log(predicted increase number)')\n",
    "plt.xlabel('log(actual increased number)')    \n",
    "    \n",
    "    #plt.xlim(5000,1000000)\n",
    "#plt.ylim(5000,1000000)\n",
    "\n",
    "\n",
    "plt.legend()\n",
    "plt.show()"
   ]
  },
  {
   "cell_type": "code",
   "execution_count": 41,
   "metadata": {},
   "outputs": [],
   "source": [
    "def recover_to_time_series(Yhat,initime):\n",
    "    \n",
    "    nperiod=len(Yhat)\n",
    "    date=pd.period_range(initime,periods=nperiod,freq='D')\n",
    "    print(len(date),len(Yhat[:,0]))\n",
    "    y=pd.DataFrame({'date':date,'predicted':Yhat[:,0]})\n",
    "    y=y.reset_index(drop=True).set_index('date')\n",
    "    \n",
    "    return y\n",
    "    \n",
    "    "
   ]
  },
  {
   "cell_type": "code",
   "execution_count": null,
   "metadata": {},
   "outputs": [],
   "source": []
  },
  {
   "cell_type": "code",
   "execution_count": 42,
   "metadata": {},
   "outputs": [
    {
     "name": "stdout",
     "output_type": "stream",
     "text": [
      "8 8\n"
     ]
    },
    {
     "data": {
      "image/png": "[encoded data removed]",
      "text/plain": [
       "<Figure size 720x576 with 1 Axes>"
      ]
     },
     "metadata": {
      "needs_background": "light"
     },
     "output_type": "display_data"
    }
   ],
   "source": [
    "initime=df.index[look_back]\n",
    "predict_new=recover_to_time_series(trainPredict,initime)\n",
    "predict_new['predicted']=np.exp(predict_new['predicted'])\n",
    "fig = plt.figure(figsize=(10, 8))\n",
    "predict_new['predicted'].plot(color='r',style='--',label='Modeled',legend=True)\n",
    "df.plot(color='b',linestyle='',marker='o',label='Reported',legend=True)\n",
    "\n",
    "#plt.title(paralabel)\n",
    "#plt.ylabel(paralabel,fontsize=12)\n",
    "#plt.xlim('2018-01-01','2019-01-01')\n",
    "plt.yscale('log')\n",
    "\n",
    "#plt.yscale('log')\n",
    "plt.xlabel('Date',fontsize=12)\n",
    "plt.legend(loc='best',ncol=3)\n",
    "plt.show()    \n"
   ]
  },
  {
   "cell_type": "markdown",
   "metadata": {},
   "source": [
    "#### using the data at the three dates (1-29,1-30, and 1-31) to Predict increased determined cases "
   ]
  },
  {
   "cell_type": "code",
   "execution_count": 43,
   "metadata": {},
   "outputs": [],
   "source": [
    "# convert an array of values into a dataset matrix\n",
    "def create_dataset_pr(dataset, look_back=1):\n",
    "    dataX = []\n",
    "    for i in range(len(dataset)-look_back+1): #-1):\n",
    "        a = dataset[i:(i+look_back), 0]\n",
    "        dataX.append(a)\n",
    "        print(a)\n",
    "    return np.array(dataX)\n"
   ]
  },
  {
   "cell_type": "code",
   "execution_count": 44,
   "metadata": {},
   "outputs": [],
   "source": [
    "def prediction (pred,model):\n",
    "    dataset1=np.log(pred['Inc_deter'].values)\n",
    "    dataset2=dataset1.reshape(-1,1)\n",
    "    sc1= MinMaxScaler(feature_range=(0,1))\n",
    "    dataset3 = sc.fit_transform(dataset2)\n",
    "    pred_X = create_dataset_pr(dataset3, look_back)\n",
    "    pred_X = np.reshape(pred_X, (pred_X.shape[0], 1, pred_X.shape[1]))\n",
    "    Pred_Y = model.predict(pred_X)\n",
    "    Pred_Y = sc.inverse_transform(Pred_Y)\n",
    "    return np.exp(Pred_Y)"
   ]
  },
  {
   "cell_type": "code",
   "execution_count": 45,
   "metadata": {},
   "outputs": [
    {
     "name": "stdout",
     "output_type": "stream",
     "text": [
      "[1.         0.         0.34699149]\n"
     ]
    }
   ],
   "source": [
    "file='predict0201.csv'\n",
    "pred=pd.read_csv(file)\n",
    "pr0201=prediction(pred,model)"
   ]
  },
  {
   "cell_type": "code",
   "execution_count": 46,
   "metadata": {},
   "outputs": [
    {
     "data": {
      "text/plain": [
       "array([[2251.3032]], dtype=float32)"
      ]
     },
     "execution_count": 46,
     "metadata": {},
     "output_type": "execute_result"
    }
   ],
   "source": [
    "pr0201"
   ]
  },
  {
   "cell_type": "code",
   "execution_count": 47,
   "metadata": {},
   "outputs": [],
   "source": [
    "act0201=2560"
   ]
  },
  {
   "cell_type": "code",
   "execution_count": 48,
   "metadata": {},
   "outputs": [],
   "source": [
    "re=abs(pr0201[0][0]-act0201)/act0201*100"
   ]
  },
  {
   "cell_type": "code",
   "execution_count": 49,
   "metadata": {},
   "outputs": [
    {
     "data": {
      "text/plain": [
       "12.058467864990234"
      ]
     },
     "execution_count": 49,
     "metadata": {},
     "output_type": "execute_result"
    }
   ],
   "source": [
    "re"
   ]
  },
  {
   "cell_type": "markdown",
   "metadata": {},
   "source": [
    "### using the data at the three dates (01-30,01-31,02-01) to predict 0202"
   ]
  },
  {
   "cell_type": "code",
   "execution_count": 50,
   "metadata": {},
   "outputs": [
    {
     "name": "stdout",
     "output_type": "stream",
     "text": [
      "[0.         0.24621347 1.        ]\n"
     ]
    }
   ],
   "source": [
    "file='predict0202.csv'\n",
    "pred=pd.read_csv(file)\n",
    "pr0202=prediction(pred,model)"
   ]
  },
  {
   "cell_type": "code",
   "execution_count": 51,
   "metadata": {},
   "outputs": [
    {
     "data": {
      "text/plain": [
       "array([[2349.679]], dtype=float32)"
      ]
     },
     "execution_count": 51,
     "metadata": {},
     "output_type": "execute_result"
    }
   ],
   "source": [
    "pr0202"
   ]
  },
  {
   "cell_type": "code",
   "execution_count": null,
   "metadata": {},
   "outputs": [],
   "source": []
  }
 ],
 "metadata": {
  "kernelspec": {
   "display_name": "Python 3",
   "language": "python",
   "name": "python3"
  },
  "language_info": {
   "codemirror_mode": {
    "name": "ipython",
    "version": 3
   },
   "file_extension": ".py",
   "mimetype": "text/x-python",
   "name": "python",
   "nbconvert_exporter": "python",
   "pygments_lexer": "ipython3",
   "version": "3.7.3"
  }
 },
 "nbformat": 4,
 "nbformat_minor": 2
}
